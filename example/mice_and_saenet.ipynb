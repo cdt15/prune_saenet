{
 "cells": [
  {
   "cell_type": "markdown",
   "id": "9fadf8f2-c648-464d-96b0-c61673bea6c9",
   "metadata": {},
   "source": [
    "## Import and settings\n",
    "\n",
    "To run this notebook, install R, mice and miselect packages and set up a PATH to Rscript.exe.\n",
    "\n",
    "In this example, we need to import numpy, pandas, and matplotlib in addition to lingam>=1.9.2."
   ]
  },
  {
   "cell_type": "code",
   "execution_count": 1,
   "id": "b62b0520-fc95-4241-882a-b19000131bd9",
   "metadata": {
    "tags": []
   },
   "outputs": [
    {
     "name": "stdout",
     "output_type": "stream",
     "text": [
      "['1.24.4', '2.0.3']\n"
     ]
    }
   ],
   "source": [
    "import os\n",
    "import sys\n",
    "\n",
    "path = os.path.dirname(os.path.abspath(os.getcwd()))\n",
    "sys.path.append(path)\n",
    "\n",
    "from prune_saenet import impute_by_mice, estimate_adj_matrix_for_stacked_imputed_datasets\n",
    "\n",
    "import numpy as np\n",
    "import pandas as pd\n",
    "from sklearn.linear_model import LinearRegression\n",
    "\n",
    "from IPython.display import display, Markdown\n",
    "import matplotlib.pyplot as plt\n",
    "\n",
    "from lingam import MultiGroupDirectLiNGAM\n",
    "from lingam.bootstrap import BootstrapResult\n",
    "from lingam.tools import BaseMultipleImputation, BaseMultiGroupCDModel\n",
    "from lingam.tools import bootstrap_with_imputation\n",
    "from lingam.utils import calculate_total_effect, print_causal_directions, print_dagc, make_dot\n",
    "\n",
    "np.set_printoptions(precision=3, suppress=True)\n",
    "print([np.__version__, pd.__version__])\n",
    "\n",
    "np.random.seed(100)"
   ]
  },
  {
   "cell_type": "markdown",
   "id": "e6a605e5-8987-4ad8-b09b-81342c73b803",
   "metadata": {},
   "source": [
    "## Dataset where all variables are continuous\n",
    "\n",
    "### Test data\n",
    "\n",
    "The following is the adjacency matrix for generating test datasets in this notebook."
   ]
  },
  {
   "cell_type": "code",
   "execution_count": 2,
   "id": "3ad2987e-134e-4a7d-8e6d-a34e64eb6c9b",
   "metadata": {
    "tags": []
   },
   "outputs": [
    {
     "data": {
      "text/html": [
       "<style type=\"text/css\">\n",
       "#T_dbb0e_row0_col0, #T_dbb0e_row0_col1, #T_dbb0e_row0_col2, #T_dbb0e_row0_col4, #T_dbb0e_row0_col5, #T_dbb0e_row1_col1, #T_dbb0e_row1_col3, #T_dbb0e_row1_col4, #T_dbb0e_row1_col5, #T_dbb0e_row2_col0, #T_dbb0e_row2_col1, #T_dbb0e_row2_col2, #T_dbb0e_row2_col4, #T_dbb0e_row2_col5, #T_dbb0e_row3_col0, #T_dbb0e_row3_col1, #T_dbb0e_row3_col2, #T_dbb0e_row3_col3, #T_dbb0e_row3_col4, #T_dbb0e_row3_col5, #T_dbb0e_row4_col1, #T_dbb0e_row4_col3, #T_dbb0e_row4_col4, #T_dbb0e_row4_col5, #T_dbb0e_row5_col1, #T_dbb0e_row5_col2, #T_dbb0e_row5_col3, #T_dbb0e_row5_col4, #T_dbb0e_row5_col5 {\n",
       "  background-color: #eee9f3;\n",
       "  color: #000000;\n",
       "}\n",
       "#T_dbb0e_row0_col3, #T_dbb0e_row2_col3, #T_dbb0e_row5_col0 {\n",
       "  background-color: #034f7d;\n",
       "  color: #f1f1f1;\n",
       "}\n",
       "#T_dbb0e_row1_col0 {\n",
       "  background-color: #3991c1;\n",
       "  color: #f1f1f1;\n",
       "}\n",
       "#T_dbb0e_row1_col2 {\n",
       "  background-color: #88b1d4;\n",
       "  color: #000000;\n",
       "}\n",
       "#T_dbb0e_row4_col0 {\n",
       "  background-color: #023858;\n",
       "  color: #f1f1f1;\n",
       "}\n",
       "#T_dbb0e_row4_col2 {\n",
       "  background-color: #fff7fb;\n",
       "  color: #000000;\n",
       "}\n",
       "</style>\n",
       "<table id=\"T_dbb0e\">\n",
       "  <thead>\n",
       "    <tr>\n",
       "      <th class=\"blank level0\" >&nbsp;</th>\n",
       "      <th id=\"T_dbb0e_level0_col0\" class=\"col_heading level0 col0\" >0</th>\n",
       "      <th id=\"T_dbb0e_level0_col1\" class=\"col_heading level0 col1\" >1</th>\n",
       "      <th id=\"T_dbb0e_level0_col2\" class=\"col_heading level0 col2\" >2</th>\n",
       "      <th id=\"T_dbb0e_level0_col3\" class=\"col_heading level0 col3\" >3</th>\n",
       "      <th id=\"T_dbb0e_level0_col4\" class=\"col_heading level0 col4\" >4</th>\n",
       "      <th id=\"T_dbb0e_level0_col5\" class=\"col_heading level0 col5\" >5</th>\n",
       "    </tr>\n",
       "  </thead>\n",
       "  <tbody>\n",
       "    <tr>\n",
       "      <th id=\"T_dbb0e_level0_row0\" class=\"row_heading level0 row0\" >0</th>\n",
       "      <td id=\"T_dbb0e_row0_col0\" class=\"data row0 col0\" >0.000000</td>\n",
       "      <td id=\"T_dbb0e_row0_col1\" class=\"data row0 col1\" >0.000000</td>\n",
       "      <td id=\"T_dbb0e_row0_col2\" class=\"data row0 col2\" >0.000000</td>\n",
       "      <td id=\"T_dbb0e_row0_col3\" class=\"data row0 col3\" >0.895000</td>\n",
       "      <td id=\"T_dbb0e_row0_col4\" class=\"data row0 col4\" >0.000000</td>\n",
       "      <td id=\"T_dbb0e_row0_col5\" class=\"data row0 col5\" >0.000000</td>\n",
       "    </tr>\n",
       "    <tr>\n",
       "      <th id=\"T_dbb0e_level0_row1\" class=\"row_heading level0 row1\" >1</th>\n",
       "      <td id=\"T_dbb0e_row1_col0\" class=\"data row1 col0\" >0.565000</td>\n",
       "      <td id=\"T_dbb0e_row1_col1\" class=\"data row1 col1\" >0.000000</td>\n",
       "      <td id=\"T_dbb0e_row1_col2\" class=\"data row1 col2\" >0.377000</td>\n",
       "      <td id=\"T_dbb0e_row1_col3\" class=\"data row1 col3\" >0.000000</td>\n",
       "      <td id=\"T_dbb0e_row1_col4\" class=\"data row1 col4\" >0.000000</td>\n",
       "      <td id=\"T_dbb0e_row1_col5\" class=\"data row1 col5\" >0.000000</td>\n",
       "    </tr>\n",
       "    <tr>\n",
       "      <th id=\"T_dbb0e_level0_row2\" class=\"row_heading level0 row2\" >2</th>\n",
       "      <td id=\"T_dbb0e_row2_col0\" class=\"data row2 col0\" >0.000000</td>\n",
       "      <td id=\"T_dbb0e_row2_col1\" class=\"data row2 col1\" >0.000000</td>\n",
       "      <td id=\"T_dbb0e_row2_col2\" class=\"data row2 col2\" >0.000000</td>\n",
       "      <td id=\"T_dbb0e_row2_col3\" class=\"data row2 col3\" >0.895000</td>\n",
       "      <td id=\"T_dbb0e_row2_col4\" class=\"data row2 col4\" >0.000000</td>\n",
       "      <td id=\"T_dbb0e_row2_col5\" class=\"data row2 col5\" >0.000000</td>\n",
       "    </tr>\n",
       "    <tr>\n",
       "      <th id=\"T_dbb0e_level0_row3\" class=\"row_heading level0 row3\" >3</th>\n",
       "      <td id=\"T_dbb0e_row3_col0\" class=\"data row3 col0\" >0.000000</td>\n",
       "      <td id=\"T_dbb0e_row3_col1\" class=\"data row3 col1\" >0.000000</td>\n",
       "      <td id=\"T_dbb0e_row3_col2\" class=\"data row3 col2\" >0.000000</td>\n",
       "      <td id=\"T_dbb0e_row3_col3\" class=\"data row3 col3\" >0.000000</td>\n",
       "      <td id=\"T_dbb0e_row3_col4\" class=\"data row3 col4\" >0.000000</td>\n",
       "      <td id=\"T_dbb0e_row3_col5\" class=\"data row3 col5\" >0.000000</td>\n",
       "    </tr>\n",
       "    <tr>\n",
       "      <th id=\"T_dbb0e_level0_row4\" class=\"row_heading level0 row4\" >4</th>\n",
       "      <td id=\"T_dbb0e_row4_col0\" class=\"data row4 col0\" >0.991000</td>\n",
       "      <td id=\"T_dbb0e_row4_col1\" class=\"data row4 col1\" >0.000000</td>\n",
       "      <td id=\"T_dbb0e_row4_col2\" class=\"data row4 col2\" >-0.124000</td>\n",
       "      <td id=\"T_dbb0e_row4_col3\" class=\"data row4 col3\" >0.000000</td>\n",
       "      <td id=\"T_dbb0e_row4_col4\" class=\"data row4 col4\" >0.000000</td>\n",
       "      <td id=\"T_dbb0e_row4_col5\" class=\"data row4 col5\" >0.000000</td>\n",
       "    </tr>\n",
       "    <tr>\n",
       "      <th id=\"T_dbb0e_level0_row5\" class=\"row_heading level0 row5\" >5</th>\n",
       "      <td id=\"T_dbb0e_row5_col0\" class=\"data row5 col0\" >0.895000</td>\n",
       "      <td id=\"T_dbb0e_row5_col1\" class=\"data row5 col1\" >0.000000</td>\n",
       "      <td id=\"T_dbb0e_row5_col2\" class=\"data row5 col2\" >0.000000</td>\n",
       "      <td id=\"T_dbb0e_row5_col3\" class=\"data row5 col3\" >0.000000</td>\n",
       "      <td id=\"T_dbb0e_row5_col4\" class=\"data row5 col4\" >0.000000</td>\n",
       "      <td id=\"T_dbb0e_row5_col5\" class=\"data row5 col5\" >0.000000</td>\n",
       "    </tr>\n",
       "  </tbody>\n",
       "</table>\n"
      ],
      "text/plain": [
       "<pandas.io.formats.style.Styler at 0x7febed70d940>"
      ]
     },
     "metadata": {},
     "output_type": "display_data"
    }
   ],
   "source": [
    "true_m = np.array([\n",
    "    [ 0.000,  0.000,  0.000,  0.895,  0.000,  0.000],\n",
    "    [ 0.565,  0.000,  0.377,  0.000,  0.000,  0.000],\n",
    "    [ 0.000,  0.000,  0.000,  0.895,  0.000,  0.000],\n",
    "    [ 0.000,  0.000,  0.000,  0.000,  0.000,  0.000],\n",
    "    [ 0.991,  0.000, -0.124,  0.000,  0.000,  0.000],\n",
    "    [ 0.895,  0.000,  0.000,  0.000,  0.000,  0.000]\n",
    "])\n",
    "true_causal_order = [3, 0, 2, 1, 4, 5]\n",
    "\n",
    "display(pd.DataFrame(true_m).style.background_gradient(axis=None))"
   ]
  },
  {
   "cell_type": "code",
   "execution_count": 3,
   "id": "d03deb3c-cb6f-449a-b3f6-5529c1ba8d8b",
   "metadata": {
    "tags": []
   },
   "outputs": [],
   "source": [
    "def generate_data(size=1000):\n",
    "    scales = [0.2, 0.2, 0.2, 1, 0.2, 0.2]\n",
    "    e = np.array([np.random.uniform(-np.sqrt(3 * scale), np.sqrt(3 * scale), size=size) for scale in scales])\n",
    "    X = (np.linalg.pinv(np.eye(len(true_m)) - true_m) @ e).T\n",
    "    return X\n",
    "\n",
    "def generate_missing_pos(prop_missing):\n",
    "    # This function generates positions to be missing values by mcar.\n",
    "    missing_pos = []\n",
    "    for i, prop in enumerate(prop_missing):\n",
    "        mask = np.random.uniform(0, 1, size=len(X))\n",
    "        missing_pos.append(mask < prop)\n",
    "    missing_pos = np.array(missing_pos).T\n",
    "    \n",
    "    return missing_pos\n",
    "\n",
    "X = generate_data()\n",
    "\n",
    "prop_missing = [0.1, 0.1, 0.1, 0.1, 0.1, 0.1]\n",
    "missing_pos = generate_missing_pos(prop_missing)\n",
    "\n",
    "# keep true values\n",
    "true_values = X.copy()\n",
    "true_values[~missing_pos] = np.nan\n",
    "\n",
    "X[missing_pos] = np.nan"
   ]
  },
  {
   "cell_type": "markdown",
   "id": "520bb901-8c7a-416e-b643-2901df990f38",
   "metadata": {},
   "source": [
    "Actual proportions of missing values are as follows:"
   ]
  },
  {
   "cell_type": "code",
   "execution_count": 4,
   "id": "09781ebd-4b89-453a-9f7e-02c8830ccbfc",
   "metadata": {
    "tags": []
   },
   "outputs": [
    {
     "data": {
      "text/plain": [
       "array([0.095, 0.099, 0.098, 0.099, 0.114, 0.103])"
      ]
     },
     "execution_count": 4,
     "metadata": {},
     "output_type": "execute_result"
    }
   ],
   "source": [
    "np.isnan(X).sum(axis=0) / len(X)"
   ]
  },
  {
   "cell_type": "code",
   "execution_count": 5,
   "id": "15562ad1-494b-4183-bc8d-dc1f55953316",
   "metadata": {
    "tags": []
   },
   "outputs": [
    {
     "data": {
      "image/png": "[encoded data removed]",
      "text/plain": [
       "<Figure size 864x144 with 6 Axes>"
      ]
     },
     "metadata": {
      "needs_background": "light"
     },
     "output_type": "display_data"
    }
   ],
   "source": [
    "fig, axes = plt.subplots(1, X.shape[1], figsize=(12, 2))\n",
    "for i, (ax, x) in enumerate(zip(axes, X.T)):\n",
    "    ax.hist(x)\n",
    "    ax.set_title(f\"x{i}\")\n",
    "plt.tight_layout()\n",
    "plt.show()"
   ]
  },
  {
   "cell_type": "markdown",
   "id": "771cf472-a1c5-4e07-87eb-bc98bdd32a76",
   "metadata": {},
   "source": [
    "### The causal discovery with the multiple imputation\n",
    "\n",
    "`bootstrap_with_imputation` creates bootstrap samples and performs the multiple imputation on each bootstrap samples and estimates adjacency matricies for each imputed datasets.\n",
    "\n",
    "The following codes replaces the implement of the multiple imputation and the implement of the causal discovery algorithm for the multigroup dataset."
   ]
  },
  {
   "cell_type": "code",
   "execution_count": 6,
   "id": "67e9726e-4c2a-45e2-b810-59d5cbf92c94",
   "metadata": {
    "tags": []
   },
   "outputs": [],
   "source": [
    "class CustomizedMultipleImputation(BaseMultipleImputation):\n",
    "    \"\"\" perform the multiple imputation by mice\"\"\"\n",
    "    \n",
    "    def __init__(self, is_discrete=None):\n",
    "        self._is_discrete = is_discrete\n",
    "    \n",
    "    def fit_transform(self, X):\n",
    "        X_ = impute_by_mice(X, is_discrete=self._is_discrete)\n",
    "        return X_\n",
    "\n",
    "\n",
    "class CustomizedMGCDModel(BaseMultiGroupCDModel):\n",
    "    \"\"\" perform the causal discovery on the multigroup dataset and\n",
    "        prune estimated adjacency matrices assuming a common pruning pattern. \n",
    "    \"\"\"\n",
    "    \n",
    "    def __init__(self, ad_weight_type=\"min\", prior_knowledge=None, apply_prior_knowledge_softly=False, random_state=None):\n",
    "        self._model = MultiGroupDirectLiNGAM(\n",
    "            prior_knowledge=prior_knowledge,\n",
    "            apply_prior_knowledge_softly=apply_prior_knowledge_softly,\n",
    "            random_state=random_state\n",
    "        )\n",
    "\n",
    "        self._ad_weight_type = ad_weight_type\n",
    "        self._random_state = random_state\n",
    "        \n",
    "        self._weights = None\n",
    "\n",
    "    def before_imputation(self, X):\n",
    "        self._weights = 1 - np.sum(np.isnan(X), axis=1) / X.shape[1]\n",
    "\n",
    "    def fit(self, X_list):\n",
    "        self._model.fit(X_list)\n",
    "        causal_order = self._model.causal_order_\n",
    "        \n",
    "        seed = None\n",
    "        if self._random_state != None:\n",
    "            seed = random_state.randint(0, 1e+4)\n",
    "        \n",
    "        adj_mat = estimate_adj_matrix_for_stacked_imputed_datasets(\n",
    "            X_list,\n",
    "            causal_order,\n",
    "            ad_weight_type=self._ad_weight_type,\n",
    "            weights=self._weights,\n",
    "            seed=seed\n",
    "        )\n",
    "\n",
    "        return causal_order, adj_mat\n",
    "\n",
    "# create instances for multiple imputation and causal discovery\n",
    "imp = CustomizedMultipleImputation()\n",
    "cd_model = CustomizedMGCDModel()\n",
    "\n",
    "# number of bootstraps\n",
    "n_sampling = 3\n",
    "\n",
    "# send instances\n",
    "result = bootstrap_with_imputation(X, n_sampling, imp=imp, cd_model=cd_model)\n",
    "\n",
    "causal_orders, adj_list, resampled_indices, imputation_results = result"
   ]
  },
  {
   "cell_type": "markdown",
   "id": "449b9936-5609-4e1d-9852-fb7986778299",
   "metadata": {},
   "source": [
    "The followings are estimated causal orders and adjacency matrices."
   ]
  },
  {
   "cell_type": "code",
   "execution_count": 7,
   "id": "29800ad6-11ce-4e1f-a2cc-c499dedc8995",
   "metadata": {
    "tags": []
   },
   "outputs": [
    {
     "data": {
      "text/plain": [
       "array([[3, 2, 0, 4, 1, 5],\n",
       "       [3, 0, 2, 4, 1, 5],\n",
       "       [3, 0, 2, 1, 5, 4]])"
      ]
     },
     "execution_count": 7,
     "metadata": {},
     "output_type": "execute_result"
    }
   ],
   "source": [
    "causal_orders"
   ]
  },
  {
   "cell_type": "code",
   "execution_count": 8,
   "id": "6d145960-eaa2-48e8-bf59-5aaa1a9fdef3",
   "metadata": {
    "tags": []
   },
   "outputs": [
    {
     "data": {
      "text/html": [
       "<style type=\"text/css\">\n",
       "#T_0fc5c_row0_col0, #T_0fc5c_row0_col1, #T_0fc5c_row0_col4, #T_0fc5c_row0_col5, #T_0fc5c_row1_col1, #T_0fc5c_row1_col3, #T_0fc5c_row1_col5, #T_0fc5c_row2_col0, #T_0fc5c_row2_col1, #T_0fc5c_row2_col2, #T_0fc5c_row2_col4, #T_0fc5c_row2_col5, #T_0fc5c_row3_col0, #T_0fc5c_row3_col1, #T_0fc5c_row3_col2, #T_0fc5c_row3_col3, #T_0fc5c_row3_col4, #T_0fc5c_row3_col5, #T_0fc5c_row4_col1, #T_0fc5c_row4_col3, #T_0fc5c_row4_col4, #T_0fc5c_row4_col5, #T_0fc5c_row5_col2, #T_0fc5c_row5_col4, #T_0fc5c_row5_col5 {\n",
       "  background-color: #f7f0f7;\n",
       "  color: #000000;\n",
       "}\n",
       "#T_0fc5c_row0_col2 {\n",
       "  background-color: #f8f1f8;\n",
       "  color: #000000;\n",
       "}\n",
       "#T_0fc5c_row0_col3 {\n",
       "  background-color: #034165;\n",
       "  color: #f1f1f1;\n",
       "}\n",
       "#T_0fc5c_row1_col0 {\n",
       "  background-color: #62a2cb;\n",
       "  color: #f1f1f1;\n",
       "}\n",
       "#T_0fc5c_row1_col2 {\n",
       "  background-color: #78abd0;\n",
       "  color: #f1f1f1;\n",
       "}\n",
       "#T_0fc5c_row1_col4 {\n",
       "  background-color: #f0eaf4;\n",
       "  color: #000000;\n",
       "}\n",
       "#T_0fc5c_row2_col3, #T_0fc5c_row4_col0 {\n",
       "  background-color: #023858;\n",
       "  color: #f1f1f1;\n",
       "}\n",
       "#T_0fc5c_row4_col2 {\n",
       "  background-color: #fff7fb;\n",
       "  color: #000000;\n",
       "}\n",
       "#T_0fc5c_row5_col0 {\n",
       "  background-color: #0566a0;\n",
       "  color: #f1f1f1;\n",
       "}\n",
       "#T_0fc5c_row5_col1 {\n",
       "  background-color: #e5e1ef;\n",
       "  color: #000000;\n",
       "}\n",
       "#T_0fc5c_row5_col3 {\n",
       "  background-color: #f1ebf5;\n",
       "  color: #000000;\n",
       "}\n",
       "</style>\n",
       "<table id=\"T_0fc5c\">\n",
       "  <thead>\n",
       "    <tr>\n",
       "      <th class=\"blank level0\" >&nbsp;</th>\n",
       "      <th id=\"T_0fc5c_level0_col0\" class=\"col_heading level0 col0\" >0</th>\n",
       "      <th id=\"T_0fc5c_level0_col1\" class=\"col_heading level0 col1\" >1</th>\n",
       "      <th id=\"T_0fc5c_level0_col2\" class=\"col_heading level0 col2\" >2</th>\n",
       "      <th id=\"T_0fc5c_level0_col3\" class=\"col_heading level0 col3\" >3</th>\n",
       "      <th id=\"T_0fc5c_level0_col4\" class=\"col_heading level0 col4\" >4</th>\n",
       "      <th id=\"T_0fc5c_level0_col5\" class=\"col_heading level0 col5\" >5</th>\n",
       "    </tr>\n",
       "  </thead>\n",
       "  <tbody>\n",
       "    <tr>\n",
       "      <th id=\"T_0fc5c_level0_row0\" class=\"row_heading level0 row0\" >0</th>\n",
       "      <td id=\"T_0fc5c_row0_col0\" class=\"data row0 col0\" >0.000000</td>\n",
       "      <td id=\"T_0fc5c_row0_col1\" class=\"data row0 col1\" >0.000000</td>\n",
       "      <td id=\"T_0fc5c_row0_col2\" class=\"data row0 col2\" >-0.003025</td>\n",
       "      <td id=\"T_0fc5c_row0_col3\" class=\"data row0 col3\" >0.850140</td>\n",
       "      <td id=\"T_0fc5c_row0_col4\" class=\"data row0 col4\" >0.000000</td>\n",
       "      <td id=\"T_0fc5c_row0_col5\" class=\"data row0 col5\" >0.000000</td>\n",
       "    </tr>\n",
       "    <tr>\n",
       "      <th id=\"T_0fc5c_level0_row1\" class=\"row_heading level0 row1\" >1</th>\n",
       "      <td id=\"T_0fc5c_row1_col0\" class=\"data row1 col0\" >0.452663</td>\n",
       "      <td id=\"T_0fc5c_row1_col1\" class=\"data row1 col1\" >0.000000</td>\n",
       "      <td id=\"T_0fc5c_row1_col2\" class=\"data row1 col2\" >0.408482</td>\n",
       "      <td id=\"T_0fc5c_row1_col3\" class=\"data row1 col3\" >0.000000</td>\n",
       "      <td id=\"T_0fc5c_row1_col4\" class=\"data row1 col4\" >0.049828</td>\n",
       "      <td id=\"T_0fc5c_row1_col5\" class=\"data row1 col5\" >0.000000</td>\n",
       "    </tr>\n",
       "    <tr>\n",
       "      <th id=\"T_0fc5c_level0_row2\" class=\"row_heading level0 row2\" >2</th>\n",
       "      <td id=\"T_0fc5c_row2_col0\" class=\"data row2 col0\" >0.000000</td>\n",
       "      <td id=\"T_0fc5c_row2_col1\" class=\"data row2 col1\" >0.000000</td>\n",
       "      <td id=\"T_0fc5c_row2_col2\" class=\"data row2 col2\" >0.000000</td>\n",
       "      <td id=\"T_0fc5c_row2_col3\" class=\"data row2 col3\" >0.879022</td>\n",
       "      <td id=\"T_0fc5c_row2_col4\" class=\"data row2 col4\" >0.000000</td>\n",
       "      <td id=\"T_0fc5c_row2_col5\" class=\"data row2 col5\" >0.000000</td>\n",
       "    </tr>\n",
       "    <tr>\n",
       "      <th id=\"T_0fc5c_level0_row3\" class=\"row_heading level0 row3\" >3</th>\n",
       "      <td id=\"T_0fc5c_row3_col0\" class=\"data row3 col0\" >0.000000</td>\n",
       "      <td id=\"T_0fc5c_row3_col1\" class=\"data row3 col1\" >0.000000</td>\n",
       "      <td id=\"T_0fc5c_row3_col2\" class=\"data row3 col2\" >0.000000</td>\n",
       "      <td id=\"T_0fc5c_row3_col3\" class=\"data row3 col3\" >0.000000</td>\n",
       "      <td id=\"T_0fc5c_row3_col4\" class=\"data row3 col4\" >0.000000</td>\n",
       "      <td id=\"T_0fc5c_row3_col5\" class=\"data row3 col5\" >0.000000</td>\n",
       "    </tr>\n",
       "    <tr>\n",
       "      <th id=\"T_0fc5c_level0_row4\" class=\"row_heading level0 row4\" >4</th>\n",
       "      <td id=\"T_0fc5c_row4_col0\" class=\"data row4 col0\" >0.882349</td>\n",
       "      <td id=\"T_0fc5c_row4_col1\" class=\"data row4 col1\" >0.000000</td>\n",
       "      <td id=\"T_0fc5c_row4_col2\" class=\"data row4 col2\" >-0.047575</td>\n",
       "      <td id=\"T_0fc5c_row4_col3\" class=\"data row4 col3\" >0.000000</td>\n",
       "      <td id=\"T_0fc5c_row4_col4\" class=\"data row4 col4\" >0.000000</td>\n",
       "      <td id=\"T_0fc5c_row4_col5\" class=\"data row4 col5\" >0.000000</td>\n",
       "    </tr>\n",
       "    <tr>\n",
       "      <th id=\"T_0fc5c_level0_row5\" class=\"row_heading level0 row5\" >5</th>\n",
       "      <td id=\"T_0fc5c_row5_col0\" class=\"data row5 col0\" >0.702367</td>\n",
       "      <td id=\"T_0fc5c_row5_col1\" class=\"data row5 col1\" >0.100703</td>\n",
       "      <td id=\"T_0fc5c_row5_col2\" class=\"data row5 col2\" >0.000000</td>\n",
       "      <td id=\"T_0fc5c_row5_col3\" class=\"data row5 col3\" >0.039378</td>\n",
       "      <td id=\"T_0fc5c_row5_col4\" class=\"data row5 col4\" >0.000000</td>\n",
       "      <td id=\"T_0fc5c_row5_col5\" class=\"data row5 col5\" >0.000000</td>\n",
       "    </tr>\n",
       "  </tbody>\n",
       "</table>\n"
      ],
      "text/plain": [
       "<pandas.io.formats.style.Styler at 0x7febeaf8c8b0>"
      ]
     },
     "metadata": {},
     "output_type": "display_data"
    },
    {
     "data": {
      "text/html": [
       "<style type=\"text/css\">\n",
       "#T_0dbf5_row0_col0, #T_0dbf5_row0_col1, #T_0dbf5_row0_col2, #T_0dbf5_row0_col4, #T_0dbf5_row0_col5, #T_0dbf5_row1_col1, #T_0dbf5_row1_col3, #T_0dbf5_row1_col5, #T_0dbf5_row2_col0, #T_0dbf5_row2_col1, #T_0dbf5_row2_col2, #T_0dbf5_row2_col4, #T_0dbf5_row2_col5, #T_0dbf5_row3_col0, #T_0dbf5_row3_col1, #T_0dbf5_row3_col2, #T_0dbf5_row3_col3, #T_0dbf5_row3_col4, #T_0dbf5_row3_col5, #T_0dbf5_row4_col1, #T_0dbf5_row4_col3, #T_0dbf5_row4_col4, #T_0dbf5_row4_col5, #T_0dbf5_row5_col4, #T_0dbf5_row5_col5 {\n",
       "  background-color: #f4eef6;\n",
       "  color: #000000;\n",
       "}\n",
       "#T_0dbf5_row0_col3 {\n",
       "  background-color: #03466e;\n",
       "  color: #f1f1f1;\n",
       "}\n",
       "#T_0dbf5_row1_col0 {\n",
       "  background-color: #5c9fc9;\n",
       "  color: #f1f1f1;\n",
       "}\n",
       "#T_0dbf5_row1_col2 {\n",
       "  background-color: #63a2cb;\n",
       "  color: #f1f1f1;\n",
       "}\n",
       "#T_0dbf5_row1_col4 {\n",
       "  background-color: #f1ebf5;\n",
       "  color: #000000;\n",
       "}\n",
       "#T_0dbf5_row2_col3 {\n",
       "  background-color: #02395a;\n",
       "  color: #f1f1f1;\n",
       "}\n",
       "#T_0dbf5_row4_col0 {\n",
       "  background-color: #023858;\n",
       "  color: #f1f1f1;\n",
       "}\n",
       "#T_0dbf5_row4_col2 {\n",
       "  background-color: #fff7fb;\n",
       "  color: #000000;\n",
       "}\n",
       "#T_0dbf5_row5_col0 {\n",
       "  background-color: #045c90;\n",
       "  color: #f1f1f1;\n",
       "}\n",
       "#T_0dbf5_row5_col1 {\n",
       "  background-color: #e7e3f0;\n",
       "  color: #000000;\n",
       "}\n",
       "#T_0dbf5_row5_col2 {\n",
       "  background-color: #f4edf6;\n",
       "  color: #000000;\n",
       "}\n",
       "#T_0dbf5_row5_col3 {\n",
       "  background-color: #f2ecf5;\n",
       "  color: #000000;\n",
       "}\n",
       "</style>\n",
       "<table id=\"T_0dbf5\">\n",
       "  <thead>\n",
       "    <tr>\n",
       "      <th class=\"blank level0\" >&nbsp;</th>\n",
       "      <th id=\"T_0dbf5_level0_col0\" class=\"col_heading level0 col0\" >0</th>\n",
       "      <th id=\"T_0dbf5_level0_col1\" class=\"col_heading level0 col1\" >1</th>\n",
       "      <th id=\"T_0dbf5_level0_col2\" class=\"col_heading level0 col2\" >2</th>\n",
       "      <th id=\"T_0dbf5_level0_col3\" class=\"col_heading level0 col3\" >3</th>\n",
       "      <th id=\"T_0dbf5_level0_col4\" class=\"col_heading level0 col4\" >4</th>\n",
       "      <th id=\"T_0dbf5_level0_col5\" class=\"col_heading level0 col5\" >5</th>\n",
       "    </tr>\n",
       "  </thead>\n",
       "  <tbody>\n",
       "    <tr>\n",
       "      <th id=\"T_0dbf5_level0_row0\" class=\"row_heading level0 row0\" >0</th>\n",
       "      <td id=\"T_0dbf5_row0_col0\" class=\"data row0 col0\" >0.000000</td>\n",
       "      <td id=\"T_0dbf5_row0_col1\" class=\"data row0 col1\" >0.000000</td>\n",
       "      <td id=\"T_0dbf5_row0_col2\" class=\"data row0 col2\" >0.000000</td>\n",
       "      <td id=\"T_0dbf5_row0_col3\" class=\"data row0 col3\" >0.860852</td>\n",
       "      <td id=\"T_0dbf5_row0_col4\" class=\"data row0 col4\" >0.000000</td>\n",
       "      <td id=\"T_0dbf5_row0_col5\" class=\"data row0 col5\" >0.000000</td>\n",
       "    </tr>\n",
       "    <tr>\n",
       "      <th id=\"T_0dbf5_level0_row1\" class=\"row_heading level0 row1\" >1</th>\n",
       "      <td id=\"T_0dbf5_row1_col0\" class=\"data row1 col0\" >0.470654</td>\n",
       "      <td id=\"T_0dbf5_row1_col1\" class=\"data row1 col1\" >0.000000</td>\n",
       "      <td id=\"T_0dbf5_row1_col2\" class=\"data row1 col2\" >0.454914</td>\n",
       "      <td id=\"T_0dbf5_row1_col3\" class=\"data row1 col3\" >0.000000</td>\n",
       "      <td id=\"T_0dbf5_row1_col4\" class=\"data row1 col4\" >0.020468</td>\n",
       "      <td id=\"T_0dbf5_row1_col5\" class=\"data row1 col5\" >0.000000</td>\n",
       "    </tr>\n",
       "    <tr>\n",
       "      <th id=\"T_0dbf5_level0_row2\" class=\"row_heading level0 row2\" >2</th>\n",
       "      <td id=\"T_0dbf5_row2_col0\" class=\"data row2 col0\" >0.000000</td>\n",
       "      <td id=\"T_0dbf5_row2_col1\" class=\"data row2 col1\" >0.000000</td>\n",
       "      <td id=\"T_0dbf5_row2_col2\" class=\"data row2 col2\" >0.000000</td>\n",
       "      <td id=\"T_0dbf5_row2_col3\" class=\"data row2 col3\" >0.905771</td>\n",
       "      <td id=\"T_0dbf5_row2_col4\" class=\"data row2 col4\" >0.000000</td>\n",
       "      <td id=\"T_0dbf5_row2_col5\" class=\"data row2 col5\" >0.000000</td>\n",
       "    </tr>\n",
       "    <tr>\n",
       "      <th id=\"T_0dbf5_level0_row3\" class=\"row_heading level0 row3\" >3</th>\n",
       "      <td id=\"T_0dbf5_row3_col0\" class=\"data row3 col0\" >0.000000</td>\n",
       "      <td id=\"T_0dbf5_row3_col1\" class=\"data row3 col1\" >0.000000</td>\n",
       "      <td id=\"T_0dbf5_row3_col2\" class=\"data row3 col2\" >0.000000</td>\n",
       "      <td id=\"T_0dbf5_row3_col3\" class=\"data row3 col3\" >0.000000</td>\n",
       "      <td id=\"T_0dbf5_row3_col4\" class=\"data row3 col4\" >0.000000</td>\n",
       "      <td id=\"T_0dbf5_row3_col5\" class=\"data row3 col5\" >0.000000</td>\n",
       "    </tr>\n",
       "    <tr>\n",
       "      <th id=\"T_0dbf5_level0_row4\" class=\"row_heading level0 row4\" >4</th>\n",
       "      <td id=\"T_0dbf5_row4_col0\" class=\"data row4 col0\" >0.912643</td>\n",
       "      <td id=\"T_0dbf5_row4_col1\" class=\"data row4 col1\" >0.000000</td>\n",
       "      <td id=\"T_0dbf5_row4_col2\" class=\"data row4 col2\" >-0.069722</td>\n",
       "      <td id=\"T_0dbf5_row4_col3\" class=\"data row4 col3\" >0.000000</td>\n",
       "      <td id=\"T_0dbf5_row4_col4\" class=\"data row4 col4\" >0.000000</td>\n",
       "      <td id=\"T_0dbf5_row4_col5\" class=\"data row4 col5\" >0.000000</td>\n",
       "    </tr>\n",
       "    <tr>\n",
       "      <th id=\"T_0dbf5_level0_row5\" class=\"row_heading level0 row5\" >5</th>\n",
       "      <td id=\"T_0dbf5_row5_col0\" class=\"data row5 col0\" >0.775150</td>\n",
       "      <td id=\"T_0dbf5_row5_col1\" class=\"data row5 col1\" >0.072732</td>\n",
       "      <td id=\"T_0dbf5_row5_col2\" class=\"data row5 col2\" >0.003812</td>\n",
       "      <td id=\"T_0dbf5_row5_col3\" class=\"data row5 col3\" >0.016308</td>\n",
       "      <td id=\"T_0dbf5_row5_col4\" class=\"data row5 col4\" >0.000000</td>\n",
       "      <td id=\"T_0dbf5_row5_col5\" class=\"data row5 col5\" >0.000000</td>\n",
       "    </tr>\n",
       "  </tbody>\n",
       "</table>\n"
      ],
      "text/plain": [
       "<pandas.io.formats.style.Styler at 0x7febed53ad00>"
      ]
     },
     "metadata": {},
     "output_type": "display_data"
    },
    {
     "data": {
      "text/html": [
       "<style type=\"text/css\">\n",
       "#T_50730_row0_col0, #T_50730_row0_col1, #T_50730_row0_col2, #T_50730_row0_col4, #T_50730_row0_col5, #T_50730_row1_col1, #T_50730_row1_col3, #T_50730_row1_col4, #T_50730_row1_col5, #T_50730_row2_col1, #T_50730_row2_col2, #T_50730_row2_col4, #T_50730_row2_col5, #T_50730_row3_col0, #T_50730_row3_col1, #T_50730_row3_col2, #T_50730_row3_col3, #T_50730_row3_col4, #T_50730_row3_col5, #T_50730_row4_col1, #T_50730_row4_col3, #T_50730_row4_col4, #T_50730_row4_col5, #T_50730_row5_col1, #T_50730_row5_col3, #T_50730_row5_col4, #T_50730_row5_col5 {\n",
       "  background-color: #f7f0f7;\n",
       "  color: #000000;\n",
       "}\n",
       "#T_50730_row0_col3 {\n",
       "  background-color: #03517e;\n",
       "  color: #f1f1f1;\n",
       "}\n",
       "#T_50730_row1_col0 {\n",
       "  background-color: #3d93c2;\n",
       "  color: #f1f1f1;\n",
       "}\n",
       "#T_50730_row1_col2 {\n",
       "  background-color: #71a8ce;\n",
       "  color: #f1f1f1;\n",
       "}\n",
       "#T_50730_row2_col0 {\n",
       "  background-color: #fbf3f9;\n",
       "  color: #000000;\n",
       "}\n",
       "#T_50730_row2_col3 {\n",
       "  background-color: #023858;\n",
       "  color: #f1f1f1;\n",
       "}\n",
       "#T_50730_row4_col0 {\n",
       "  background-color: #023d60;\n",
       "  color: #f1f1f1;\n",
       "}\n",
       "#T_50730_row4_col2 {\n",
       "  background-color: #fff7fb;\n",
       "  color: #000000;\n",
       "}\n",
       "#T_50730_row5_col0 {\n",
       "  background-color: #034f7d;\n",
       "  color: #f1f1f1;\n",
       "}\n",
       "#T_50730_row5_col2 {\n",
       "  background-color: #f1ebf4;\n",
       "  color: #000000;\n",
       "}\n",
       "</style>\n",
       "<table id=\"T_50730\">\n",
       "  <thead>\n",
       "    <tr>\n",
       "      <th class=\"blank level0\" >&nbsp;</th>\n",
       "      <th id=\"T_50730_level0_col0\" class=\"col_heading level0 col0\" >0</th>\n",
       "      <th id=\"T_50730_level0_col1\" class=\"col_heading level0 col1\" >1</th>\n",
       "      <th id=\"T_50730_level0_col2\" class=\"col_heading level0 col2\" >2</th>\n",
       "      <th id=\"T_50730_level0_col3\" class=\"col_heading level0 col3\" >3</th>\n",
       "      <th id=\"T_50730_level0_col4\" class=\"col_heading level0 col4\" >4</th>\n",
       "      <th id=\"T_50730_level0_col5\" class=\"col_heading level0 col5\" >5</th>\n",
       "    </tr>\n",
       "  </thead>\n",
       "  <tbody>\n",
       "    <tr>\n",
       "      <th id=\"T_50730_level0_row0\" class=\"row_heading level0 row0\" >0</th>\n",
       "      <td id=\"T_50730_row0_col0\" class=\"data row0 col0\" >0.000000</td>\n",
       "      <td id=\"T_50730_row0_col1\" class=\"data row0 col1\" >0.000000</td>\n",
       "      <td id=\"T_50730_row0_col2\" class=\"data row0 col2\" >0.000000</td>\n",
       "      <td id=\"T_50730_row0_col3\" class=\"data row0 col3\" >0.828359</td>\n",
       "      <td id=\"T_50730_row0_col4\" class=\"data row0 col4\" >0.000000</td>\n",
       "      <td id=\"T_50730_row0_col5\" class=\"data row0 col5\" >0.000000</td>\n",
       "    </tr>\n",
       "    <tr>\n",
       "      <th id=\"T_50730_level0_row1\" class=\"row_heading level0 row1\" >1</th>\n",
       "      <td id=\"T_50730_row1_col0\" class=\"data row1 col0\" >0.539892</td>\n",
       "      <td id=\"T_50730_row1_col1\" class=\"data row1 col1\" >0.000000</td>\n",
       "      <td id=\"T_50730_row1_col2\" class=\"data row1 col2\" >0.435348</td>\n",
       "      <td id=\"T_50730_row1_col3\" class=\"data row1 col3\" >0.000000</td>\n",
       "      <td id=\"T_50730_row1_col4\" class=\"data row1 col4\" >0.000000</td>\n",
       "      <td id=\"T_50730_row1_col5\" class=\"data row1 col5\" >0.000000</td>\n",
       "    </tr>\n",
       "    <tr>\n",
       "      <th id=\"T_50730_level0_row2\" class=\"row_heading level0 row2\" >2</th>\n",
       "      <td id=\"T_50730_row2_col0\" class=\"data row2 col0\" >-0.024177</td>\n",
       "      <td id=\"T_50730_row2_col1\" class=\"data row2 col1\" >0.000000</td>\n",
       "      <td id=\"T_50730_row2_col2\" class=\"data row2 col2\" >0.000000</td>\n",
       "      <td id=\"T_50730_row2_col3\" class=\"data row2 col3\" >0.917001</td>\n",
       "      <td id=\"T_50730_row2_col4\" class=\"data row2 col4\" >0.000000</td>\n",
       "      <td id=\"T_50730_row2_col5\" class=\"data row2 col5\" >0.000000</td>\n",
       "    </tr>\n",
       "    <tr>\n",
       "      <th id=\"T_50730_level0_row3\" class=\"row_heading level0 row3\" >3</th>\n",
       "      <td id=\"T_50730_row3_col0\" class=\"data row3 col0\" >0.000000</td>\n",
       "      <td id=\"T_50730_row3_col1\" class=\"data row3 col1\" >0.000000</td>\n",
       "      <td id=\"T_50730_row3_col2\" class=\"data row3 col2\" >0.000000</td>\n",
       "      <td id=\"T_50730_row3_col3\" class=\"data row3 col3\" >0.000000</td>\n",
       "      <td id=\"T_50730_row3_col4\" class=\"data row3 col4\" >0.000000</td>\n",
       "      <td id=\"T_50730_row3_col5\" class=\"data row3 col5\" >0.000000</td>\n",
       "    </tr>\n",
       "    <tr>\n",
       "      <th id=\"T_50730_level0_row4\" class=\"row_heading level0 row4\" >4</th>\n",
       "      <td id=\"T_50730_row4_col0\" class=\"data row4 col0\" >0.896720</td>\n",
       "      <td id=\"T_50730_row4_col1\" class=\"data row4 col1\" >0.000000</td>\n",
       "      <td id=\"T_50730_row4_col2\" class=\"data row4 col2\" >-0.054074</td>\n",
       "      <td id=\"T_50730_row4_col3\" class=\"data row4 col3\" >0.000000</td>\n",
       "      <td id=\"T_50730_row4_col4\" class=\"data row4 col4\" >0.000000</td>\n",
       "      <td id=\"T_50730_row4_col5\" class=\"data row4 col5\" >0.000000</td>\n",
       "    </tr>\n",
       "    <tr>\n",
       "      <th id=\"T_50730_level0_row5\" class=\"row_heading level0 row5\" >5</th>\n",
       "      <td id=\"T_50730_row5_col0\" class=\"data row5 col0\" >0.831664</td>\n",
       "      <td id=\"T_50730_row5_col1\" class=\"data row5 col1\" >0.000000</td>\n",
       "      <td id=\"T_50730_row5_col2\" class=\"data row5 col2\" >0.038242</td>\n",
       "      <td id=\"T_50730_row5_col3\" class=\"data row5 col3\" >0.000000</td>\n",
       "      <td id=\"T_50730_row5_col4\" class=\"data row5 col4\" >0.000000</td>\n",
       "      <td id=\"T_50730_row5_col5\" class=\"data row5 col5\" >0.000000</td>\n",
       "    </tr>\n",
       "  </tbody>\n",
       "</table>\n"
      ],
      "text/plain": [
       "<pandas.io.formats.style.Styler at 0x7febed53ae80>"
      ]
     },
     "metadata": {},
     "output_type": "display_data"
    }
   ],
   "source": [
    "for adj in adj_list:\n",
    "    display(pd.DataFrame(adj).style.background_gradient(axis=None))"
   ]
  },
  {
   "cell_type": "markdown",
   "id": "8df35452-626f-4bf6-8d36-6a2bb3efd1e6",
   "metadata": {},
   "source": [
    "## Dataset where all variables are continuous except one\n",
    "\n",
    "Under the assumption that the discrete variable in a dataset is the only exogenous variable in the dataset, it is possible to support datasets that include a discrete variable.\n",
    "\n",
    "### Test data"
   ]
  },
  {
   "cell_type": "code",
   "execution_count": 9,
   "id": "dbc5eec9-c5c9-4c27-a228-98ba0ceb722b",
   "metadata": {
    "tags": []
   },
   "outputs": [],
   "source": [
    "def generate_data_d(disc_index=3, size=1000):\n",
    "    scales = [0.2, 0.2, 0.2, 1, 0.2, 0.2]\n",
    "    e = np.array([np.random.uniform(-np.sqrt(3 * s), np.sqrt(3 * s), size=size) for s in scales])\n",
    "\n",
    "    X = np.zeros((size, len(true_m)))\n",
    "    for co in true_causal_order:\n",
    "        if co == disc_index:\n",
    "            X[:, co] = true_m[co, :] @ X.T + e[co, :]\n",
    "\n",
    "            r_prob = np.random.uniform(low=0.0, high=1.0, size=size)\n",
    "            X[:, co] = np.where(r_prob < X[:, co], 1, 0)\n",
    "        else:\n",
    "            X[:, co] = true_m[co, :] @ X.T + e[co, :]\n",
    "\n",
    "    return X\n",
    "\n",
    "X = generate_data_d()\n",
    "is_discrete = [False, False, False, True, False, False]\n",
    "\n",
    "prop_missing = [0.1, 0.1, 0.1, 0.1, 0.1, 0.1]\n",
    "missing_pos = generate_missing_pos(prop_missing)\n",
    "\n",
    "# keep true values\n",
    "true_values = X.copy()\n",
    "true_values[~missing_pos] = np.nan\n",
    "\n",
    "X[missing_pos] = np.nan"
   ]
  },
  {
   "cell_type": "markdown",
   "id": "01afd3d7-402e-4548-8eaa-18df0a027b5d",
   "metadata": {},
   "source": [
    "Actual proportions of missing values are as follows:"
   ]
  },
  {
   "cell_type": "code",
   "execution_count": 10,
   "id": "aa6a7111-a079-40c9-ae0f-3fb17fdf2a73",
   "metadata": {
    "tags": []
   },
   "outputs": [
    {
     "data": {
      "text/plain": [
       "array([0.113, 0.101, 0.095, 0.099, 0.086, 0.101])"
      ]
     },
     "execution_count": 10,
     "metadata": {},
     "output_type": "execute_result"
    }
   ],
   "source": [
    "np.isnan(X).sum(axis=0) / len(X)"
   ]
  },
  {
   "cell_type": "code",
   "execution_count": 11,
   "id": "293ae90e-eddc-41a7-9a6d-2c76f22c67c7",
   "metadata": {
    "tags": []
   },
   "outputs": [
    {
     "data": {
      "image/png": "[encoded data removed]",
      "text/plain": [
       "<Figure size 864x144 with 6 Axes>"
      ]
     },
     "metadata": {
      "needs_background": "light"
     },
     "output_type": "display_data"
    }
   ],
   "source": [
    "fig, axes = plt.subplots(1, X.shape[1], figsize=(12, 2))\n",
    "for i, (ax, x) in enumerate(zip(axes, X.T)):\n",
    "    ax.hist(x)\n",
    "    ax.set_title(f\"x{i}\")\n",
    "plt.tight_layout()\n",
    "plt.show()"
   ]
  },
  {
   "cell_type": "markdown",
   "id": "f1057262-d366-4c1f-af40-4ca8e236a302",
   "metadata": {},
   "source": [
    "## Estimate adjacency matrix"
   ]
  },
  {
   "cell_type": "code",
   "execution_count": 12,
   "id": "7ded3b35-2a52-4a7c-9daa-63dc90f54913",
   "metadata": {
    "tags": []
   },
   "outputs": [],
   "source": [
    "class CustomizedMGCDModelDiscrete(BaseMultiGroupCDModel):\n",
    "    \n",
    "    def __init__(self, is_discrete=None, ad_weight_type=\"min\", prior_knowledge=None, apply_prior_knowledge_softly=False, random_state=None):\n",
    "        \n",
    "        if np.sum(is_discrete) != 1:\n",
    "            raise ValueError\n",
    "        \n",
    "        self._model = MultiGroupDirectLiNGAM(\n",
    "            prior_knowledge=prior_knowledge,\n",
    "            apply_prior_knowledge_softly=apply_prior_knowledge_softly,\n",
    "            random_state=random_state\n",
    "        )\n",
    "        \n",
    "        self._is_discrete = is_discrete\n",
    "        self._ad_weight_type = ad_weight_type\n",
    "        self._weights = None\n",
    "\n",
    "    def before_imputation(self, X):\n",
    "        # calc weights by ratio of missing values\n",
    "        self._weights = 1 - np.sum(np.isnan(X), axis=1) / X.shape[1]\n",
    "\n",
    "    def fit(self, X_list):\n",
    "        # index of the discrete variable\n",
    "        d_index = np.argwhere(is_discrete)[0][0]\n",
    "        \n",
    "        # remove effects of the discrete variable and delete the discrete variable\n",
    "        X_list_ = []\n",
    "        for X in X_list:\n",
    "            X_ = np.zeros(X.shape)\n",
    "            \n",
    "            for c_index in range(X.shape[1]):\n",
    "                if c_index == d_index:\n",
    "                    continue\n",
    "\n",
    "                model = LinearRegression()\n",
    "                model.fit(X[:, [d_index]], X[:, [c_index]])\n",
    "                \n",
    "                X_[:, [c_index]] = X[:, [c_index]] - model.predict(X[:, [d_index]])\n",
    "            X_ = np.delete(X_, d_index, axis=1)\n",
    "            X_list_.append(X_)\n",
    "        \n",
    "        # perform causal discovery\n",
    "        self._model.fit(X_list_)\n",
    "        causal_order = self._model.causal_order_\n",
    "\n",
    "        # add removed discrete variable to estimated causal_order\n",
    "        for i, c in enumerate(causal_order):\n",
    "            if c < d_index:\n",
    "                continue\n",
    "            causal_order[i] += 1\n",
    "        causal_order = [d_index, *causal_order]\n",
    "        \n",
    "        # prune adjacency matrix\n",
    "        adj_mat = estimate_adj_matrix_for_stacked_imputed_datasets(\n",
    "            X_list,\n",
    "            causal_order,\n",
    "            is_discrete=self._is_discrete,\n",
    "            ad_weight_type=self._ad_weight_type,\n",
    "            weights=self._weights,\n",
    "            seed=np.random.randint(0, 1e+4)\n",
    "        )\n",
    "\n",
    "        return causal_order, adj_mat\n",
    "\n",
    "imp = CustomizedMultipleImputation(is_discrete=is_discrete)\n",
    "cd_model = CustomizedMGCDModelDiscrete(is_discrete=is_discrete)\n",
    "\n",
    "n_sampling = 3\n",
    "\n",
    "result = bootstrap_with_imputation(X, n_sampling, imp=imp, cd_model=cd_model)\n",
    "\n",
    "causal_orders, adj_list, resampled_indices, imputation_results = result"
   ]
  },
  {
   "cell_type": "code",
   "execution_count": 13,
   "id": "732180fb-5d97-4a93-87b9-8ffa4be4b695",
   "metadata": {
    "tags": []
   },
   "outputs": [
    {
     "data": {
      "text/plain": [
       "array([[3, 0, 5, 2, 1, 4],\n",
       "       [3, 0, 5, 2, 1, 4],\n",
       "       [3, 0, 2, 1, 5, 4]])"
      ]
     },
     "execution_count": 13,
     "metadata": {},
     "output_type": "execute_result"
    }
   ],
   "source": [
    "causal_orders"
   ]
  },
  {
   "cell_type": "code",
   "execution_count": 14,
   "id": "3b8b4839-d672-42fc-a621-88706634d75c",
   "metadata": {
    "tags": []
   },
   "outputs": [
    {
     "data": {
      "text/plain": [
       "array([[[ 0.   ,  0.   ,  0.   ,  0.92 ,  0.   ,  0.   ],\n",
       "        [ 0.48 ,  0.   ,  0.38 ,  0.009,  0.   ,  0.05 ],\n",
       "        [ 0.   ,  0.   ,  0.   ,  0.889,  0.   ,  0.006],\n",
       "        [ 0.   ,  0.   ,  0.   ,  0.   ,  0.   ,  0.   ],\n",
       "        [ 1.064, -0.016, -0.173,  0.   ,  0.   , -0.016],\n",
       "        [ 0.843,  0.   ,  0.   ,  0.   ,  0.   ,  0.   ]],\n",
       "\n",
       "       [[ 0.   ,  0.   ,  0.   ,  0.92 ,  0.   ,  0.   ],\n",
       "        [ 0.513,  0.   ,  0.324,  0.   ,  0.   ,  0.022],\n",
       "        [ 0.   ,  0.   ,  0.   ,  0.93 ,  0.   , -0.001],\n",
       "        [ 0.   ,  0.   ,  0.   ,  0.   ,  0.   ,  0.   ],\n",
       "        [ 1.008,  0.027, -0.191,  0.   ,  0.   ,  0.   ],\n",
       "        [ 0.777,  0.   ,  0.   ,  0.002,  0.   ,  0.   ]],\n",
       "\n",
       "       [[ 0.   ,  0.   ,  0.   ,  0.952,  0.   ,  0.   ],\n",
       "        [ 0.559,  0.   ,  0.381, -0.046,  0.   ,  0.   ],\n",
       "        [-0.016,  0.   ,  0.   ,  0.996,  0.   ,  0.   ],\n",
       "        [ 0.   ,  0.   ,  0.   ,  0.   ,  0.   ,  0.   ],\n",
       "        [ 0.976,  0.023, -0.127,  0.   ,  0.   ,  0.   ],\n",
       "        [ 0.798,  0.   ,  0.034,  0.008,  0.   ,  0.   ]]])"
      ]
     },
     "execution_count": 14,
     "metadata": {},
     "output_type": "execute_result"
    }
   ],
   "source": [
    "adj_list"
   ]
  },
  {
   "cell_type": "code",
   "execution_count": null,
   "id": "6147a29a-1f21-46ae-bb30-9963ab4ca090",
   "metadata": {},
   "outputs": [],
   "source": []
  }
 ],
 "metadata": {
  "kernelspec": {
   "display_name": "Python 3 (ipykernel)",
   "language": "python",
   "name": "python3"
  },
  "language_info": {
   "codemirror_mode": {
    "name": "ipython",
    "version": 3
   },
   "file_extension": ".py",
   "mimetype": "text/x-python",
   "name": "python",
   "nbconvert_exporter": "python",
   "pygments_lexer": "ipython3",
   "version": "3.8.10"
  },
  "widgets": {
   "application/vnd.jupyter.widget-state+json": {
    "state": {},
    "version_major": 2,
    "version_minor": 0
   }
  }
 },
 "nbformat": 4,
 "nbformat_minor": 5
}
