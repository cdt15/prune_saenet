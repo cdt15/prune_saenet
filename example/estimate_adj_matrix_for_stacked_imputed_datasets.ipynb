{
 "cells": [
  {
   "cell_type": "markdown",
   "id": "d4e7bf53-a36f-486f-b14c-54c04827fda0",
   "metadata": {},
   "source": [
    "## Import and settings\n",
    "\n",
    "To run this notebook, install R and miselect and set up a PATH to Rscript.exe.\n",
    "\n",
    "In this example, we need to import numpy, pandas, and matplotlib in addition to lingam."
   ]
  },
  {
   "cell_type": "code",
   "execution_count": 1,
   "id": "1a3210eb-c145-4c4d-8faf-82276080216d",
   "metadata": {
    "tags": []
   },
   "outputs": [
    {
     "name": "stdout",
     "output_type": "stream",
     "text": [
      "['1.24.4', '2.0.3']\n"
     ]
    }
   ],
   "source": [
    "import os\n",
    "import sys\n",
    "\n",
    "path = os.path.dirname(os.path.abspath(os.getcwd()))\n",
    "sys.path.append(path)\n",
    "\n",
    "from prune_saenet import estimate_adj_matrix_for_stacked_imputed_datasets\n",
    "\n",
    "import numpy as np\n",
    "import pandas as pd\n",
    "\n",
    "from IPython.display import display, Markdown\n",
    "import matplotlib.pyplot as plt\n",
    "\n",
    "np.set_printoptions(precision=3, suppress=True)\n",
    "print([np.__version__, pd.__version__])\n",
    "\n",
    "np.random.seed(100)"
   ]
  },
  {
   "cell_type": "markdown",
   "id": "1456c407-a59f-49ae-a823-78f8bd3777ff",
   "metadata": {},
   "source": [
    "## Test data\n",
    "\n",
    "The following is the adjacency matrix for generating test datasets in this notebook."
   ]
  },
  {
   "cell_type": "code",
   "execution_count": 2,
   "id": "e6daea8b-5bb5-488a-999a-2fb0ae62657b",
   "metadata": {
    "tags": []
   },
   "outputs": [
    {
     "data": {
      "text/html": [
       "<style type=\"text/css\">\n",
       "#T_177ad_row0_col0, #T_177ad_row0_col1, #T_177ad_row0_col2, #T_177ad_row0_col4, #T_177ad_row0_col5, #T_177ad_row1_col1, #T_177ad_row1_col3, #T_177ad_row1_col4, #T_177ad_row1_col5, #T_177ad_row2_col0, #T_177ad_row2_col1, #T_177ad_row2_col2, #T_177ad_row2_col4, #T_177ad_row2_col5, #T_177ad_row3_col0, #T_177ad_row3_col1, #T_177ad_row3_col2, #T_177ad_row3_col3, #T_177ad_row3_col4, #T_177ad_row3_col5, #T_177ad_row4_col1, #T_177ad_row4_col3, #T_177ad_row4_col4, #T_177ad_row4_col5, #T_177ad_row5_col1, #T_177ad_row5_col2, #T_177ad_row5_col3, #T_177ad_row5_col4, #T_177ad_row5_col5 {\n",
       "  background-color: #eee9f3;\n",
       "  color: #000000;\n",
       "}\n",
       "#T_177ad_row0_col3, #T_177ad_row2_col3, #T_177ad_row5_col0 {\n",
       "  background-color: #034f7d;\n",
       "  color: #f1f1f1;\n",
       "}\n",
       "#T_177ad_row1_col0 {\n",
       "  background-color: #3991c1;\n",
       "  color: #f1f1f1;\n",
       "}\n",
       "#T_177ad_row1_col2 {\n",
       "  background-color: #88b1d4;\n",
       "  color: #000000;\n",
       "}\n",
       "#T_177ad_row4_col0 {\n",
       "  background-color: #023858;\n",
       "  color: #f1f1f1;\n",
       "}\n",
       "#T_177ad_row4_col2 {\n",
       "  background-color: #fff7fb;\n",
       "  color: #000000;\n",
       "}\n",
       "</style>\n",
       "<table id=\"T_177ad\">\n",
       "  <thead>\n",
       "    <tr>\n",
       "      <th class=\"blank level0\" >&nbsp;</th>\n",
       "      <th id=\"T_177ad_level0_col0\" class=\"col_heading level0 col0\" >0</th>\n",
       "      <th id=\"T_177ad_level0_col1\" class=\"col_heading level0 col1\" >1</th>\n",
       "      <th id=\"T_177ad_level0_col2\" class=\"col_heading level0 col2\" >2</th>\n",
       "      <th id=\"T_177ad_level0_col3\" class=\"col_heading level0 col3\" >3</th>\n",
       "      <th id=\"T_177ad_level0_col4\" class=\"col_heading level0 col4\" >4</th>\n",
       "      <th id=\"T_177ad_level0_col5\" class=\"col_heading level0 col5\" >5</th>\n",
       "    </tr>\n",
       "  </thead>\n",
       "  <tbody>\n",
       "    <tr>\n",
       "      <th id=\"T_177ad_level0_row0\" class=\"row_heading level0 row0\" >0</th>\n",
       "      <td id=\"T_177ad_row0_col0\" class=\"data row0 col0\" >0.000000</td>\n",
       "      <td id=\"T_177ad_row0_col1\" class=\"data row0 col1\" >0.000000</td>\n",
       "      <td id=\"T_177ad_row0_col2\" class=\"data row0 col2\" >0.000000</td>\n",
       "      <td id=\"T_177ad_row0_col3\" class=\"data row0 col3\" >0.895000</td>\n",
       "      <td id=\"T_177ad_row0_col4\" class=\"data row0 col4\" >0.000000</td>\n",
       "      <td id=\"T_177ad_row0_col5\" class=\"data row0 col5\" >0.000000</td>\n",
       "    </tr>\n",
       "    <tr>\n",
       "      <th id=\"T_177ad_level0_row1\" class=\"row_heading level0 row1\" >1</th>\n",
       "      <td id=\"T_177ad_row1_col0\" class=\"data row1 col0\" >0.565000</td>\n",
       "      <td id=\"T_177ad_row1_col1\" class=\"data row1 col1\" >0.000000</td>\n",
       "      <td id=\"T_177ad_row1_col2\" class=\"data row1 col2\" >0.377000</td>\n",
       "      <td id=\"T_177ad_row1_col3\" class=\"data row1 col3\" >0.000000</td>\n",
       "      <td id=\"T_177ad_row1_col4\" class=\"data row1 col4\" >0.000000</td>\n",
       "      <td id=\"T_177ad_row1_col5\" class=\"data row1 col5\" >0.000000</td>\n",
       "    </tr>\n",
       "    <tr>\n",
       "      <th id=\"T_177ad_level0_row2\" class=\"row_heading level0 row2\" >2</th>\n",
       "      <td id=\"T_177ad_row2_col0\" class=\"data row2 col0\" >0.000000</td>\n",
       "      <td id=\"T_177ad_row2_col1\" class=\"data row2 col1\" >0.000000</td>\n",
       "      <td id=\"T_177ad_row2_col2\" class=\"data row2 col2\" >0.000000</td>\n",
       "      <td id=\"T_177ad_row2_col3\" class=\"data row2 col3\" >0.895000</td>\n",
       "      <td id=\"T_177ad_row2_col4\" class=\"data row2 col4\" >0.000000</td>\n",
       "      <td id=\"T_177ad_row2_col5\" class=\"data row2 col5\" >0.000000</td>\n",
       "    </tr>\n",
       "    <tr>\n",
       "      <th id=\"T_177ad_level0_row3\" class=\"row_heading level0 row3\" >3</th>\n",
       "      <td id=\"T_177ad_row3_col0\" class=\"data row3 col0\" >0.000000</td>\n",
       "      <td id=\"T_177ad_row3_col1\" class=\"data row3 col1\" >0.000000</td>\n",
       "      <td id=\"T_177ad_row3_col2\" class=\"data row3 col2\" >0.000000</td>\n",
       "      <td id=\"T_177ad_row3_col3\" class=\"data row3 col3\" >0.000000</td>\n",
       "      <td id=\"T_177ad_row3_col4\" class=\"data row3 col4\" >0.000000</td>\n",
       "      <td id=\"T_177ad_row3_col5\" class=\"data row3 col5\" >0.000000</td>\n",
       "    </tr>\n",
       "    <tr>\n",
       "      <th id=\"T_177ad_level0_row4\" class=\"row_heading level0 row4\" >4</th>\n",
       "      <td id=\"T_177ad_row4_col0\" class=\"data row4 col0\" >0.991000</td>\n",
       "      <td id=\"T_177ad_row4_col1\" class=\"data row4 col1\" >0.000000</td>\n",
       "      <td id=\"T_177ad_row4_col2\" class=\"data row4 col2\" >-0.124000</td>\n",
       "      <td id=\"T_177ad_row4_col3\" class=\"data row4 col3\" >0.000000</td>\n",
       "      <td id=\"T_177ad_row4_col4\" class=\"data row4 col4\" >0.000000</td>\n",
       "      <td id=\"T_177ad_row4_col5\" class=\"data row4 col5\" >0.000000</td>\n",
       "    </tr>\n",
       "    <tr>\n",
       "      <th id=\"T_177ad_level0_row5\" class=\"row_heading level0 row5\" >5</th>\n",
       "      <td id=\"T_177ad_row5_col0\" class=\"data row5 col0\" >0.895000</td>\n",
       "      <td id=\"T_177ad_row5_col1\" class=\"data row5 col1\" >0.000000</td>\n",
       "      <td id=\"T_177ad_row5_col2\" class=\"data row5 col2\" >0.000000</td>\n",
       "      <td id=\"T_177ad_row5_col3\" class=\"data row5 col3\" >0.000000</td>\n",
       "      <td id=\"T_177ad_row5_col4\" class=\"data row5 col4\" >0.000000</td>\n",
       "      <td id=\"T_177ad_row5_col5\" class=\"data row5 col5\" >0.000000</td>\n",
       "    </tr>\n",
       "  </tbody>\n",
       "</table>\n"
      ],
      "text/plain": [
       "<pandas.io.formats.style.Styler at 0x7fe4e81a08b0>"
      ]
     },
     "metadata": {},
     "output_type": "display_data"
    }
   ],
   "source": [
    "m = np.array([\n",
    "    [ 0.000,  0.000,  0.000,  0.895,  0.000,  0.000],\n",
    "    [ 0.565,  0.000,  0.377,  0.000,  0.000,  0.000],\n",
    "    [ 0.000,  0.000,  0.000,  0.895,  0.000,  0.000],\n",
    "    [ 0.000,  0.000,  0.000,  0.000,  0.000,  0.000],\n",
    "    [ 0.991,  0.000, -0.124,  0.000,  0.000,  0.000],\n",
    "    [ 0.895,  0.000,  0.000,  0.000,  0.000,  0.000]\n",
    "])\n",
    "causal_order = [3, 0, 2, 1, 4, 5]\n",
    "\n",
    "display(pd.DataFrame(m).style.background_gradient(axis=None))"
   ]
  },
  {
   "cell_type": "markdown",
   "id": "71b4012d-cb2d-4475-b6d8-4d59faa995fb",
   "metadata": {},
   "source": [
    "`estimate_adj_matrix_for_stacked_imputed_datasets` estimates an adjacency matrix based on the stacked datasets and its causal order. The following code generate a stacked dataset for this test run."
   ]
  },
  {
   "cell_type": "code",
   "execution_count": 3,
   "id": "49bf5a2d-bb02-4a00-8b23-ec80ad8a248e",
   "metadata": {
    "tags": []
   },
   "outputs": [],
   "source": [
    "def generate_data(size=1000):\n",
    "    scales = [0.2, 0.2, 0.2, 1, 0.2, 0.2]\n",
    "    e = np.array([np.random.uniform(-np.sqrt(3 * scale), np.sqrt(3 * scale), size=size) for scale in scales])\n",
    "    X = (np.linalg.pinv(np.eye(len(m)) - m) @ e).T\n",
    "    return X\n",
    "\n",
    "n_stacks = 3\n",
    "X_list = [generate_data() for _ in range(n_stacks)]"
   ]
  },
  {
   "cell_type": "code",
   "execution_count": 4,
   "id": "e797d34a-6282-486d-ab9f-56637951562d",
   "metadata": {
    "tags": []
   },
   "outputs": [
    {
     "data": {
      "image/png": "[encoded data removed]",
      "text/plain": [
       "<Figure size 864x432 with 18 Axes>"
      ]
     },
     "metadata": {
      "needs_background": "light"
     },
     "output_type": "display_data"
    }
   ],
   "source": [
    "n_features = len(m)\n",
    "\n",
    "fig, axes = plt.subplots(n_stacks, len(m), figsize=(2 * n_features, 2 * n_stacks))\n",
    "\n",
    "for i, X in enumerate(X_list):\n",
    "    for j in range(n_features):\n",
    "        data = X_list[i][:, j]\n",
    "        \n",
    "        axes[i, j].hist(data)\n",
    "\n",
    "        if i == 0:\n",
    "            axes[i, j].set_title(f\"x{j}\\nvar={np.var(data):.2f}\")\n",
    "        else:\n",
    "            axes[i, j].set_title(f\"var={np.var(data):.2f}\")\n",
    "            \n",
    "        if j == 0:\n",
    "            axes[i, j].set_ylabel(f\"stack[{i}]\")\n",
    "\n",
    "plt.tight_layout()\n",
    "plt.show()"
   ]
  },
  {
   "cell_type": "markdown",
   "id": "99691a6c-ee0f-4bb3-a2a0-f9f4f436e8c6",
   "metadata": {},
   "source": [
    "## Estimating adjacency matrix"
   ]
  },
  {
   "cell_type": "code",
   "execution_count": 5,
   "id": "484e99a7-1889-4114-909f-20a28809dc5c",
   "metadata": {
    "tags": []
   },
   "outputs": [],
   "source": [
    "adj_mat = estimate_adj_matrix_for_stacked_imputed_datasets(X_list, causal_order, seed=0)"
   ]
  },
  {
   "cell_type": "markdown",
   "id": "deb1126b-4add-4f7a-a5d1-8ba74d5551bb",
   "metadata": {},
   "source": [
    "The following is the estimated adjacency matrix."
   ]
  },
  {
   "cell_type": "code",
   "execution_count": 6,
   "id": "3df5dc4f-68cc-4e5b-b8c8-d93c79147d39",
   "metadata": {
    "tags": []
   },
   "outputs": [
    {
     "data": {
      "text/html": [
       "<style type=\"text/css\">\n",
       "#T_91d8e_row0_col0, #T_91d8e_row0_col1, #T_91d8e_row0_col2, #T_91d8e_row0_col4, #T_91d8e_row0_col5, #T_91d8e_row1_col1, #T_91d8e_row1_col4, #T_91d8e_row1_col5, #T_91d8e_row2_col0, #T_91d8e_row2_col1, #T_91d8e_row2_col2, #T_91d8e_row2_col4, #T_91d8e_row2_col5, #T_91d8e_row3_col0, #T_91d8e_row3_col1, #T_91d8e_row3_col2, #T_91d8e_row3_col3, #T_91d8e_row3_col4, #T_91d8e_row3_col5, #T_91d8e_row4_col4, #T_91d8e_row4_col5, #T_91d8e_row5_col3, #T_91d8e_row5_col4, #T_91d8e_row5_col5 {\n",
       "  background-color: #eee8f3;\n",
       "  color: #000000;\n",
       "}\n",
       "#T_91d8e_row0_col3, #T_91d8e_row5_col0 {\n",
       "  background-color: #034d79;\n",
       "  color: #f1f1f1;\n",
       "}\n",
       "#T_91d8e_row1_col0 {\n",
       "  background-color: #358fc0;\n",
       "  color: #f1f1f1;\n",
       "}\n",
       "#T_91d8e_row1_col2 {\n",
       "  background-color: #83afd3;\n",
       "  color: #f1f1f1;\n",
       "}\n",
       "#T_91d8e_row1_col3 {\n",
       "  background-color: #e9e5f1;\n",
       "  color: #000000;\n",
       "}\n",
       "#T_91d8e_row2_col3 {\n",
       "  background-color: #03456c;\n",
       "  color: #f1f1f1;\n",
       "}\n",
       "#T_91d8e_row4_col0 {\n",
       "  background-color: #023858;\n",
       "  color: #f1f1f1;\n",
       "}\n",
       "#T_91d8e_row4_col1, #T_91d8e_row5_col1 {\n",
       "  background-color: #ede7f2;\n",
       "  color: #000000;\n",
       "}\n",
       "#T_91d8e_row4_col2 {\n",
       "  background-color: #fff7fb;\n",
       "  color: #000000;\n",
       "}\n",
       "#T_91d8e_row4_col3 {\n",
       "  background-color: #e7e3f0;\n",
       "  color: #000000;\n",
       "}\n",
       "#T_91d8e_row5_col2 {\n",
       "  background-color: #ebe6f2;\n",
       "  color: #000000;\n",
       "}\n",
       "</style>\n",
       "<table id=\"T_91d8e\">\n",
       "  <thead>\n",
       "    <tr>\n",
       "      <th class=\"blank level0\" >&nbsp;</th>\n",
       "      <th id=\"T_91d8e_level0_col0\" class=\"col_heading level0 col0\" >0</th>\n",
       "      <th id=\"T_91d8e_level0_col1\" class=\"col_heading level0 col1\" >1</th>\n",
       "      <th id=\"T_91d8e_level0_col2\" class=\"col_heading level0 col2\" >2</th>\n",
       "      <th id=\"T_91d8e_level0_col3\" class=\"col_heading level0 col3\" >3</th>\n",
       "      <th id=\"T_91d8e_level0_col4\" class=\"col_heading level0 col4\" >4</th>\n",
       "      <th id=\"T_91d8e_level0_col5\" class=\"col_heading level0 col5\" >5</th>\n",
       "    </tr>\n",
       "  </thead>\n",
       "  <tbody>\n",
       "    <tr>\n",
       "      <th id=\"T_91d8e_level0_row0\" class=\"row_heading level0 row0\" >0</th>\n",
       "      <td id=\"T_91d8e_row0_col0\" class=\"data row0 col0\" >0.000000</td>\n",
       "      <td id=\"T_91d8e_row0_col1\" class=\"data row0 col1\" >0.000000</td>\n",
       "      <td id=\"T_91d8e_row0_col2\" class=\"data row0 col2\" >0.000000</td>\n",
       "      <td id=\"T_91d8e_row0_col3\" class=\"data row0 col3\" >0.852778</td>\n",
       "      <td id=\"T_91d8e_row0_col4\" class=\"data row0 col4\" >0.000000</td>\n",
       "      <td id=\"T_91d8e_row0_col5\" class=\"data row0 col5\" >0.000000</td>\n",
       "    </tr>\n",
       "    <tr>\n",
       "      <th id=\"T_91d8e_level0_row1\" class=\"row_heading level0 row1\" >1</th>\n",
       "      <td id=\"T_91d8e_row1_col0\" class=\"data row1 col0\" >0.544589</td>\n",
       "      <td id=\"T_91d8e_row1_col1\" class=\"data row1 col1\" >0.000000</td>\n",
       "      <td id=\"T_91d8e_row1_col2\" class=\"data row1 col2\" >0.369132</td>\n",
       "      <td id=\"T_91d8e_row1_col3\" class=\"data row1 col3\" >0.025576</td>\n",
       "      <td id=\"T_91d8e_row1_col4\" class=\"data row1 col4\" >0.000000</td>\n",
       "      <td id=\"T_91d8e_row1_col5\" class=\"data row1 col5\" >0.000000</td>\n",
       "    </tr>\n",
       "    <tr>\n",
       "      <th id=\"T_91d8e_level0_row2\" class=\"row_heading level0 row2\" >2</th>\n",
       "      <td id=\"T_91d8e_row2_col0\" class=\"data row2 col0\" >0.000000</td>\n",
       "      <td id=\"T_91d8e_row2_col1\" class=\"data row2 col1\" >0.000000</td>\n",
       "      <td id=\"T_91d8e_row2_col2\" class=\"data row2 col2\" >0.000000</td>\n",
       "      <td id=\"T_91d8e_row2_col3\" class=\"data row2 col3\" >0.887313</td>\n",
       "      <td id=\"T_91d8e_row2_col4\" class=\"data row2 col4\" >0.000000</td>\n",
       "      <td id=\"T_91d8e_row2_col5\" class=\"data row2 col5\" >0.000000</td>\n",
       "    </tr>\n",
       "    <tr>\n",
       "      <th id=\"T_91d8e_level0_row3\" class=\"row_heading level0 row3\" >3</th>\n",
       "      <td id=\"T_91d8e_row3_col0\" class=\"data row3 col0\" >0.000000</td>\n",
       "      <td id=\"T_91d8e_row3_col1\" class=\"data row3 col1\" >0.000000</td>\n",
       "      <td id=\"T_91d8e_row3_col2\" class=\"data row3 col2\" >0.000000</td>\n",
       "      <td id=\"T_91d8e_row3_col3\" class=\"data row3 col3\" >0.000000</td>\n",
       "      <td id=\"T_91d8e_row3_col4\" class=\"data row3 col4\" >0.000000</td>\n",
       "      <td id=\"T_91d8e_row3_col5\" class=\"data row3 col5\" >0.000000</td>\n",
       "    </tr>\n",
       "    <tr>\n",
       "      <th id=\"T_91d8e_level0_row4\" class=\"row_heading level0 row4\" >4</th>\n",
       "      <td id=\"T_91d8e_row4_col0\" class=\"data row4 col0\" >0.938826</td>\n",
       "      <td id=\"T_91d8e_row4_col1\" class=\"data row4 col1\" >0.009709</td>\n",
       "      <td id=\"T_91d8e_row4_col2\" class=\"data row4 col2\" >-0.121985</td>\n",
       "      <td id=\"T_91d8e_row4_col3\" class=\"data row4 col3\" >0.032986</td>\n",
       "      <td id=\"T_91d8e_row4_col4\" class=\"data row4 col4\" >0.000000</td>\n",
       "      <td id=\"T_91d8e_row4_col5\" class=\"data row4 col5\" >0.000000</td>\n",
       "    </tr>\n",
       "    <tr>\n",
       "      <th id=\"T_91d8e_level0_row5\" class=\"row_heading level0 row5\" >5</th>\n",
       "      <td id=\"T_91d8e_row5_col0\" class=\"data row5 col0\" >0.853060</td>\n",
       "      <td id=\"T_91d8e_row5_col1\" class=\"data row5 col1\" >0.008421</td>\n",
       "      <td id=\"T_91d8e_row5_col2\" class=\"data row5 col2\" >0.017566</td>\n",
       "      <td id=\"T_91d8e_row5_col3\" class=\"data row5 col3\" >0.000000</td>\n",
       "      <td id=\"T_91d8e_row5_col4\" class=\"data row5 col4\" >0.000000</td>\n",
       "      <td id=\"T_91d8e_row5_col5\" class=\"data row5 col5\" >0.000000</td>\n",
       "    </tr>\n",
       "  </tbody>\n",
       "</table>\n"
      ],
      "text/plain": [
       "<pandas.io.formats.style.Styler at 0x7fe48fc26c40>"
      ]
     },
     "execution_count": 6,
     "metadata": {},
     "output_type": "execute_result"
    }
   ],
   "source": [
    "pd.DataFrame(adj_mat).style.background_gradient(axis=None)"
   ]
  },
  {
   "cell_type": "markdown",
   "id": "581d1231-cca4-40a5-bab6-c88bdc93e48d",
   "metadata": {},
   "source": [
    "## Causal discovery on the dataset with missing data\n",
    "\n",
    "To execute the following code, version 1.9.1 or later `lingam` package is required.\n",
    "\n",
    "`lingam.tools.bootstrap_with_imputation` performs a causal discovery with `MultiGroupDirectLiNGAM` on the datasets generated by the multiple imputation to estimate the causal order, and then performs pruning on each of the datasets.\n",
    "\n",
    "This section describes how to prune assuming a common pruning pattern on the datasets generated by multiple imputations."
   ]
  },
  {
   "cell_type": "code",
   "execution_count": 7,
   "id": "f3dde5aa-79cb-418a-9db6-9c37dd8dde7e",
   "metadata": {},
   "outputs": [],
   "source": [
    "# install lingam package\n",
    "#%pip install \"lingam>=1.9.1\"\n",
    "\n",
    "from lingam import MultiGroupDirectLiNGAM\n",
    "from lingam.bootstrap import BootstrapResult\n",
    "from lingam.tools import BaseMultiGroupCDModel, bootstrap_with_imputation\n",
    "from lingam.utils import calculate_total_effect, print_causal_directions, print_dagc, make_dot"
   ]
  },
  {
   "cell_type": "markdown",
   "id": "c6352583-64f6-4132-8276-9cffb8ccecb8",
   "metadata": {},
   "source": [
    "Insert some missing data into the test data."
   ]
  },
  {
   "cell_type": "code",
   "execution_count": 8,
   "id": "06f2f3d5-e1cc-4086-ae25-70a920dcdef1",
   "metadata": {
    "tags": []
   },
   "outputs": [
    {
     "data": {
      "text/plain": [
       "array([0.046, 0.   , 0.   , 0.   , 0.   , 0.   ])"
      ]
     },
     "execution_count": 8,
     "metadata": {},
     "output_type": "execute_result"
    }
   ],
   "source": [
    "# propotion of missing data for each variable\n",
    "prop_missing = [0.05, 0, 0, 0, 0, 0]\n",
    "\n",
    "X_miss = X.copy()\n",
    "for i, prop in enumerate(prop_missing):\n",
    "    mask = np.random.uniform(0, 1, size=len(X))\n",
    "    X_miss[mask < prop, i] = np.nan\n",
    "\n",
    "# actual proportion of missing data\n",
    "np.sum(np.isnan(X_miss), axis=0) / len(X)"
   ]
  },
  {
   "cell_type": "markdown",
   "id": "98aed252-aede-40c2-8cc1-fac7872fa30e",
   "metadata": {},
   "source": [
    "`bootstrap_with_imputation` is performed to obtain estimation results."
   ]
  },
  {
   "cell_type": "code",
   "execution_count": 9,
   "id": "7aa9a46b-eeea-48f8-bd79-1cb9dd954063",
   "metadata": {
    "tags": []
   },
   "outputs": [],
   "source": [
    "# number of bootstrap sampling\n",
    "n_sampling = 10\n",
    "# number of multiple imputations\n",
    "n_repeats = 10\n",
    "\n",
    "# see the manual of lingam package for details of bootstrap_with_imputation\n",
    "result = bootstrap_with_imputation(X_miss, n_sampling, n_repeats=n_repeats)\n",
    "\n",
    "causal_orders, adj_matrices_list, resampled_indices, imputation_results = result"
   ]
  },
  {
   "cell_type": "markdown",
   "id": "eab04595-2e80-493f-ab65-4771fb56279e",
   "metadata": {},
   "source": [
    "`n_sampling` causal orders and (`n_sampling` * `n_repeats`) adjacency matrices are estimated."
   ]
  },
  {
   "cell_type": "code",
   "execution_count": 10,
   "id": "2b8cb8c5-a0fd-4096-9090-0fed09174417",
   "metadata": {
    "tags": []
   },
   "outputs": [
    {
     "data": {
      "text/plain": [
       "6"
      ]
     },
     "execution_count": 10,
     "metadata": {},
     "output_type": "execute_result"
    }
   ],
   "source": [
    "len(causal_order)"
   ]
  },
  {
   "cell_type": "code",
   "execution_count": 11,
   "id": "93ab47b4-a8fc-4664-854d-752b58ff31d3",
   "metadata": {
    "tags": []
   },
   "outputs": [
    {
     "data": {
      "text/plain": [
       "(10, 10, 6, 6)"
      ]
     },
     "execution_count": 11,
     "metadata": {},
     "output_type": "execute_result"
    }
   ],
   "source": [
    "# (n_sampling, n_repeats, n_features, n_features)\n",
    "adj_matrices_list.shape"
   ]
  },
  {
   "cell_type": "markdown",
   "id": "dee9959c-6416-4298-aaa0-79625042b1e6",
   "metadata": {
    "tags": []
   },
   "source": [
    "In multiple imputation, the results of the analysis for each of the multiple imputation are combined into a single result. However, in this result, `n_repeats` results are output as they are.\n",
    "\n",
    "Use `estimate_adj_matrix_for_stacked_imputed_datasets` to estimate a single adjacency matrix from multiple imputation results. Create a causal discovery model using this function, pass it to the `cd_model` of `bootstrap_with_imputation`.\n",
    "\n",
    "Define a class that `MultiGroupDirectLiNGAM` extends to use `estimate_adj_matrix_for_stacked_imputed_datasets` as follows:"
   ]
  },
  {
   "cell_type": "code",
   "execution_count": 12,
   "id": "d9d1d61a-123d-46a9-bbfc-13c07716a660",
   "metadata": {
    "tags": []
   },
   "outputs": [],
   "source": [
    "class CustomizedMGCDModel(BaseMultiGroupCDModel):\n",
    "    \n",
    "    def __init__(self, ad_weight_type=\"min\", prior_knowledge=None, apply_prior_knowledge_softly=False, random_state=None):\n",
    "        self._model = MultiGroupDirectLiNGAM(\n",
    "            prior_knowledge=prior_knowledge,\n",
    "            apply_prior_knowledge_softly=apply_prior_knowledge_softly,\n",
    "            random_state=random_state\n",
    "        )\n",
    "\n",
    "        self._ad_weight_type = ad_weight_type\n",
    "        self._random_state = random_state\n",
    "        \n",
    "        self._weights = None\n",
    "\n",
    "    def before_imputation(self, X):\n",
    "        self._weights = 1 - np.sum(np.isnan(X), axis=1) / X.shape[1]\n",
    "\n",
    "    def fit(self, X_list):\n",
    "        self._model.fit(X_list)\n",
    "        causal_order = self._model.causal_order_\n",
    "        \n",
    "        seed = None\n",
    "        if self._random_state != None:\n",
    "            seed = random_state.randint(0, 1e+4)\n",
    "        \n",
    "        adj_mat = estimate_adj_matrix_for_stacked_imputed_datasets(\n",
    "            X_list,\n",
    "            causal_order,\n",
    "            ad_weight_type=self._ad_weight_type,\n",
    "            weights=self._weights,\n",
    "            seed=seed\n",
    "        )\n",
    "\n",
    "        return causal_order, adj_mat"
   ]
  },
  {
   "cell_type": "markdown",
   "id": "05693490-57ce-4c6b-9ba3-f6f2ded5892a",
   "metadata": {},
   "source": [
    "Create an instance of the defined class and pass it to the `cd_model` argument of `bootstrap_with_imputation` and execute it."
   ]
  },
  {
   "cell_type": "code",
   "execution_count": 13,
   "id": "1443f765-232e-41ff-8a8e-6632d9eb60f7",
   "metadata": {
    "tags": []
   },
   "outputs": [],
   "source": [
    "cd_model = CustomizedMGCDModel()\n",
    "\n",
    "result = bootstrap_with_imputation(X_miss, n_sampling, n_repeats, cd_model=cd_model)\n",
    "\n",
    "causal_orders, adj_list, resampled_indices, imputation_results = result"
   ]
  },
  {
   "cell_type": "markdown",
   "id": "0b42b5e8-7211-4c52-b3bd-02b7a0a27a64",
   "metadata": {},
   "source": [
    "The shape of `adj_matrices_list` is `(n_sampling, n_repeats, n_features, n_features)`, but by giving `CustomizedMGCDModel` to `cd_model`, `adj_list` is `(n_sampling, n_ features, n_features)`. This is because one adjacency matrix is now estimated for each `n_repeats` dataset obtained when performing a multiple imputation."
   ]
  },
  {
   "cell_type": "code",
   "execution_count": 14,
   "id": "9cdab80c-9486-4403-94fb-5eedc4af1364",
   "metadata": {
    "tags": []
   },
   "outputs": [
    {
     "data": {
      "text/plain": [
       "(10, 6, 6)"
      ]
     },
     "execution_count": 14,
     "metadata": {},
     "output_type": "execute_result"
    }
   ],
   "source": [
    "adj_list.shape"
   ]
  },
  {
   "cell_type": "markdown",
   "id": "a55bcad7-d0ed-492a-9613-7563990ade48",
   "metadata": {
    "tags": []
   },
   "source": [
    "The `adj_list` will hold the bootstrap results of `n_sampling` times. To visualize the results of the bootstrap, execute the following code.\n",
    "\n",
    "For more information on `lingam.bootstrap.BootstrapResult`, check the `lingam` [manual](https://lingam.readthedocs.io/en/stable/reference/bootstrap.html) and [samples](https://github.com/cdt15/lingam/blob/master/lingam/bootstrap.py)."
   ]
  },
  {
   "cell_type": "code",
   "execution_count": 15,
   "id": "cdc5eff3-7b73-416e-a477-d843ef4e5de2",
   "metadata": {
    "tags": []
   },
   "outputs": [],
   "source": [
    "# calculate total effect\n",
    "total_effect = np.zeros(adj_list.shape)\n",
    "for i, (causal_order, adj) in enumerate(zip(causal_orders, adj_list)):\n",
    "    for j, from_ in enumerate(causal_order):\n",
    "        for to in causal_order[j + 1 :]:\n",
    "            eff = calculate_total_effect(adj, from_, to)\n",
    "            total_effect[i, to, from_] = eff\n",
    "\n",
    "bs_result = BootstrapResult(adj_list, total_effect)"
   ]
  },
  {
   "cell_type": "markdown",
   "id": "1853dd0d-86ac-417f-9f96-10dec3755bb4",
   "metadata": {},
   "source": [
    "### Causal directions"
   ]
  },
  {
   "cell_type": "code",
   "execution_count": 16,
   "id": "89dcc66a-23c0-4a2b-a6b2-3f612960339a",
   "metadata": {
    "tags": []
   },
   "outputs": [
    {
     "name": "stdout",
     "output_type": "stream",
     "text": [
      "x0 <--- x3  (100.0%)\n",
      "x1 <--- x0  (100.0%)\n",
      "x1 <--- x2  (100.0%)\n",
      "x2 <--- x3  (100.0%)\n",
      "x5 <--- x0  (100.0%)\n",
      "x4 <--- x0  (100.0%)\n",
      "x4 <--- x2  (100.0%)\n",
      "x1 <--- x3  (90.0%)\n",
      "x1 <--- x4  (60.0%)\n",
      "x5 <--- x1  (60.0%)\n",
      "x5 <--- x3  (50.0%)\n",
      "x0 <--- x2  (40.0%)\n",
      "x5 <--- x2  (30.0%)\n",
      "x4 <--- x5  (20.0%)\n",
      "x1 <--- x5  (10.0%)\n",
      "x4 <--- x1  (10.0%)\n",
      "x2 <--- x5  (10.0%)\n"
     ]
    }
   ],
   "source": [
    "cdc = bs_result.get_causal_direction_counts()\n",
    "\n",
    "print_causal_directions(cdc, n_sampling=len(adj_list))"
   ]
  },
  {
   "cell_type": "markdown",
   "id": "309c1c8f-8f96-4147-91f3-b98019e33be3",
   "metadata": {},
   "source": [
    "### Directed acyclic graphs"
   ]
  },
  {
   "cell_type": "code",
   "execution_count": 17,
   "id": "e5a3f951-98d7-43c7-a742-f82858d7dd0b",
   "metadata": {
    "tags": []
   },
   "outputs": [
    {
     "name": "stdout",
     "output_type": "stream",
     "text": [
      "DAG[0]: 20.0%\n",
      "\tx0 <--- x3 \n",
      "\tx1 <--- x0 \n",
      "\tx1 <--- x2 \n",
      "\tx1 <--- x3 \n",
      "\tx2 <--- x3 \n",
      "\tx4 <--- x0 \n",
      "\tx4 <--- x2 \n",
      "\tx5 <--- x0 \n",
      "\tx5 <--- x1 \n",
      "\tx5 <--- x3 \n",
      "DAG[1]: 10.0%\n",
      "\tx0 <--- x3 \n",
      "\tx1 <--- x0 \n",
      "\tx1 <--- x2 \n",
      "\tx1 <--- x3 \n",
      "\tx2 <--- x3 \n",
      "\tx4 <--- x0 \n",
      "\tx4 <--- x1 \n",
      "\tx4 <--- x2 \n",
      "\tx4 <--- x5 \n",
      "\tx5 <--- x0 \n",
      "\tx5 <--- x1 \n",
      "\tx5 <--- x3 \n",
      "DAG[2]: 10.0%\n",
      "\tx0 <--- x3 \n",
      "\tx1 <--- x0 \n",
      "\tx1 <--- x2 \n",
      "\tx1 <--- x3 \n",
      "\tx1 <--- x4 \n",
      "\tx2 <--- x3 \n",
      "\tx4 <--- x0 \n",
      "\tx4 <--- x2 \n",
      "\tx4 <--- x5 \n",
      "\tx5 <--- x0 \n",
      "\tx5 <--- x2 \n"
     ]
    }
   ],
   "source": [
    "dagc = bs_result.get_directed_acyclic_graph_counts(n_dags=3)\n",
    "print_dagc(dagc, n_sampling=len(adj_list))"
   ]
  },
  {
   "cell_type": "markdown",
   "id": "39fb4c5b-9ed9-4a45-b16f-3d33fb38ebab",
   "metadata": {},
   "source": [
    "### Probability"
   ]
  },
  {
   "cell_type": "code",
   "execution_count": 18,
   "id": "6bf4d92f-4b07-4212-83ee-87efbe5fd677",
   "metadata": {
    "tags": []
   },
   "outputs": [
    {
     "data": {
      "text/plain": [
       "array([[0. , 0. , 0.3, 1. , 0. , 0. ],\n",
       "       [1. , 0. , 1. , 0.9, 0.6, 0.1],\n",
       "       [0. , 0. , 0. , 1. , 0. , 0. ],\n",
       "       [0. , 0. , 0. , 0. , 0. , 0. ],\n",
       "       [1. , 0.1, 1. , 0. , 0. , 0.2],\n",
       "       [1. , 0.5, 0.2, 0.5, 0. , 0. ]])"
      ]
     },
     "execution_count": 18,
     "metadata": {},
     "output_type": "execute_result"
    }
   ],
   "source": [
    "prob = bs_result.get_probabilities(min_causal_effect=0.01)\n",
    "prob"
   ]
  },
  {
   "cell_type": "markdown",
   "id": "265d11a2-3ab8-4be1-a485-197e40a0dbbe",
   "metadata": {},
   "source": [
    "### Total causal effects"
   ]
  },
  {
   "cell_type": "code",
   "execution_count": 19,
   "id": "a19b0132-5537-47d6-b715-17cc25d3df26",
   "metadata": {
    "tags": []
   },
   "outputs": [
    {
     "data": {
      "text/html": [
       "<div>\n",
       "<style scoped>\n",
       "    .dataframe tbody tr th:only-of-type {\n",
       "        vertical-align: middle;\n",
       "    }\n",
       "\n",
       "    .dataframe tbody tr th {\n",
       "        vertical-align: top;\n",
       "    }\n",
       "\n",
       "    .dataframe thead th {\n",
       "        text-align: right;\n",
       "    }\n",
       "</style>\n",
       "<table border=\"1\" class=\"dataframe\">\n",
       "  <thead>\n",
       "    <tr style=\"text-align: right;\">\n",
       "      <th></th>\n",
       "      <th>from</th>\n",
       "      <th>to</th>\n",
       "      <th>effect</th>\n",
       "      <th>probability</th>\n",
       "    </tr>\n",
       "  </thead>\n",
       "  <tbody>\n",
       "    <tr>\n",
       "      <th>0</th>\n",
       "      <td>0</td>\n",
       "      <td>4</td>\n",
       "      <td>0.998464</td>\n",
       "      <td>1.0</td>\n",
       "    </tr>\n",
       "    <tr>\n",
       "      <th>4</th>\n",
       "      <td>3</td>\n",
       "      <td>2</td>\n",
       "      <td>0.900022</td>\n",
       "      <td>1.0</td>\n",
       "    </tr>\n",
       "    <tr>\n",
       "      <th>9</th>\n",
       "      <td>3</td>\n",
       "      <td>0</td>\n",
       "      <td>0.863544</td>\n",
       "      <td>1.0</td>\n",
       "    </tr>\n",
       "    <tr>\n",
       "      <th>1</th>\n",
       "      <td>0</td>\n",
       "      <td>5</td>\n",
       "      <td>0.827920</td>\n",
       "      <td>1.0</td>\n",
       "    </tr>\n",
       "    <tr>\n",
       "      <th>6</th>\n",
       "      <td>3</td>\n",
       "      <td>1</td>\n",
       "      <td>0.812799</td>\n",
       "      <td>1.0</td>\n",
       "    </tr>\n",
       "  </tbody>\n",
       "</table>\n",
       "</div>"
      ],
      "text/plain": [
       "   from  to    effect  probability\n",
       "0     0   4  0.998464          1.0\n",
       "4     3   2  0.900022          1.0\n",
       "9     3   0  0.863544          1.0\n",
       "1     0   5  0.827920          1.0\n",
       "6     3   1  0.812799          1.0"
      ]
     },
     "execution_count": 19,
     "metadata": {},
     "output_type": "execute_result"
    }
   ],
   "source": [
    "causal_effects = bs_result.get_total_causal_effects(min_causal_effect=0.01)\n",
    "pd.DataFrame(causal_effects).sort_values(\"effect\", key=abs, ascending=False).head()"
   ]
  },
  {
   "cell_type": "markdown",
   "id": "a5a2866c-025b-4ee3-ba16-be0ea1e22879",
   "metadata": {
    "tags": []
   },
   "source": [
    "### Bootstrap probability of path"
   ]
  },
  {
   "cell_type": "code",
   "execution_count": 20,
   "id": "7bd22316-21d9-44ed-a567-60e7e64aede7",
   "metadata": {
    "tags": []
   },
   "outputs": [
    {
     "data": {
      "text/html": [
       "<div>\n",
       "<style scoped>\n",
       "    .dataframe tbody tr th:only-of-type {\n",
       "        vertical-align: middle;\n",
       "    }\n",
       "\n",
       "    .dataframe tbody tr th {\n",
       "        vertical-align: top;\n",
       "    }\n",
       "\n",
       "    .dataframe thead th {\n",
       "        text-align: right;\n",
       "    }\n",
       "</style>\n",
       "<table border=\"1\" class=\"dataframe\">\n",
       "  <thead>\n",
       "    <tr style=\"text-align: right;\">\n",
       "      <th></th>\n",
       "      <th>path</th>\n",
       "      <th>effect</th>\n",
       "      <th>probability</th>\n",
       "    </tr>\n",
       "  </thead>\n",
       "  <tbody>\n",
       "    <tr>\n",
       "      <th>0</th>\n",
       "      <td>[3, 0, 1]</td>\n",
       "      <td>0.423491</td>\n",
       "      <td>1.0</td>\n",
       "    </tr>\n",
       "    <tr>\n",
       "      <th>1</th>\n",
       "      <td>[3, 2, 1]</td>\n",
       "      <td>0.301661</td>\n",
       "      <td>1.0</td>\n",
       "    </tr>\n",
       "    <tr>\n",
       "      <th>2</th>\n",
       "      <td>[3, 1]</td>\n",
       "      <td>0.071709</td>\n",
       "      <td>0.9</td>\n",
       "    </tr>\n",
       "    <tr>\n",
       "      <th>3</th>\n",
       "      <td>[3, 0, 4, 1]</td>\n",
       "      <td>0.018719</td>\n",
       "      <td>0.6</td>\n",
       "    </tr>\n",
       "    <tr>\n",
       "      <th>7</th>\n",
       "      <td>[3, 0, 5, 1]</td>\n",
       "      <td>0.016159</td>\n",
       "      <td>0.1</td>\n",
       "    </tr>\n",
       "  </tbody>\n",
       "</table>\n",
       "</div>"
      ],
      "text/plain": [
       "           path    effect  probability\n",
       "0     [3, 0, 1]  0.423491          1.0\n",
       "1     [3, 2, 1]  0.301661          1.0\n",
       "2        [3, 1]  0.071709          0.9\n",
       "3  [3, 0, 4, 1]  0.018719          0.6\n",
       "7  [3, 0, 5, 1]  0.016159          0.1"
      ]
     },
     "execution_count": 20,
     "metadata": {},
     "output_type": "execute_result"
    }
   ],
   "source": [
    "from_index = 3 # index of x3\n",
    "to_index = 1 # index of x0\n",
    "\n",
    "pd.DataFrame(bs_result.get_paths(from_index, to_index)).sort_values(\"effect\", key=abs, ascending=False).head()"
   ]
  }
 ],
 "metadata": {
  "kernelspec": {
   "display_name": "Python 3 (ipykernel)",
   "language": "python",
   "name": "python3"
  },
  "language_info": {
   "codemirror_mode": {
    "name": "ipython",
    "version": 3
   },
   "file_extension": ".py",
   "mimetype": "text/x-python",
   "name": "python",
   "nbconvert_exporter": "python",
   "pygments_lexer": "ipython3",
   "version": "3.8.10"
  },
  "widgets": {
   "application/vnd.jupyter.widget-state+json": {
    "state": {},
    "version_major": 2,
    "version_minor": 0
   }
  }
 },
 "nbformat": 4,
 "nbformat_minor": 5
}
