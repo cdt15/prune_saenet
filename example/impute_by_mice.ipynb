{
 "cells": [
  {
   "cell_type": "markdown",
   "id": "59f50c77-a878-4752-91b2-3a3a13799216",
   "metadata": {},
   "source": [
    "## Import and settings\n",
    "\n",
    "To run this notebook, install R and mice and set up a PATH to Rscript.exe.\n",
    "\n",
    "In this example, we need to import numpy, pandas, and matplotlib in addition to lingam."
   ]
  },
  {
   "cell_type": "code",
   "execution_count": 1,
   "id": "3a51134f-3227-4a13-96cb-b23bed311745",
   "metadata": {
    "tags": []
   },
   "outputs": [
    {
     "name": "stdout",
     "output_type": "stream",
     "text": [
      "['1.24.4', '2.0.3']\n"
     ]
    }
   ],
   "source": [
    "import os\n",
    "import sys\n",
    "\n",
    "path = os.path.dirname(os.path.abspath(os.getcwd()))\n",
    "sys.path.append(path)\n",
    "\n",
    "from pruning_missing_data import impute_by_mice, estimate_adj_matrix_for_stacked_imputed_datasets\n",
    "\n",
    "\n",
    "import numpy as np\n",
    "import pandas as pd\n",
    "\n",
    "from IPython.display import display, Markdown\n",
    "import matplotlib.pyplot as plt\n",
    "\n",
    "np.set_printoptions(precision=3, suppress=True)\n",
    "print([np.__version__, pd.__version__])\n",
    "\n",
    "np.random.seed(100)"
   ]
  },
  {
   "cell_type": "markdown",
   "id": "4b741702-9af7-45b7-b27a-7ad57fd0dbe0",
   "metadata": {},
   "source": [
    "## Test data\n",
    "\n",
    "The following is the adjacency matrix for generating test datasets in this notebook."
   ]
  },
  {
   "cell_type": "code",
   "execution_count": 2,
   "id": "b0cfaf7a-edbf-4f8f-90ed-11c4df1eedf3",
   "metadata": {
    "tags": []
   },
   "outputs": [
    {
     "data": {
      "text/html": [
       "<style type=\"text/css\">\n",
       "#T_0a297_row0_col0, #T_0a297_row0_col1, #T_0a297_row0_col2, #T_0a297_row0_col4, #T_0a297_row0_col5, #T_0a297_row1_col1, #T_0a297_row1_col3, #T_0a297_row1_col4, #T_0a297_row1_col5, #T_0a297_row2_col0, #T_0a297_row2_col1, #T_0a297_row2_col2, #T_0a297_row2_col4, #T_0a297_row2_col5, #T_0a297_row3_col0, #T_0a297_row3_col1, #T_0a297_row3_col2, #T_0a297_row3_col3, #T_0a297_row3_col4, #T_0a297_row3_col5, #T_0a297_row4_col1, #T_0a297_row4_col3, #T_0a297_row4_col4, #T_0a297_row4_col5, #T_0a297_row5_col1, #T_0a297_row5_col2, #T_0a297_row5_col3, #T_0a297_row5_col4, #T_0a297_row5_col5 {\n",
       "  background-color: #eee9f3;\n",
       "  color: #000000;\n",
       "}\n",
       "#T_0a297_row0_col3, #T_0a297_row2_col3, #T_0a297_row5_col0 {\n",
       "  background-color: #034f7d;\n",
       "  color: #f1f1f1;\n",
       "}\n",
       "#T_0a297_row1_col0 {\n",
       "  background-color: #3991c1;\n",
       "  color: #f1f1f1;\n",
       "}\n",
       "#T_0a297_row1_col2 {\n",
       "  background-color: #88b1d4;\n",
       "  color: #000000;\n",
       "}\n",
       "#T_0a297_row4_col0 {\n",
       "  background-color: #023858;\n",
       "  color: #f1f1f1;\n",
       "}\n",
       "#T_0a297_row4_col2 {\n",
       "  background-color: #fff7fb;\n",
       "  color: #000000;\n",
       "}\n",
       "</style>\n",
       "<table id=\"T_0a297\">\n",
       "  <thead>\n",
       "    <tr>\n",
       "      <th class=\"blank level0\" >&nbsp;</th>\n",
       "      <th id=\"T_0a297_level0_col0\" class=\"col_heading level0 col0\" >0</th>\n",
       "      <th id=\"T_0a297_level0_col1\" class=\"col_heading level0 col1\" >1</th>\n",
       "      <th id=\"T_0a297_level0_col2\" class=\"col_heading level0 col2\" >2</th>\n",
       "      <th id=\"T_0a297_level0_col3\" class=\"col_heading level0 col3\" >3</th>\n",
       "      <th id=\"T_0a297_level0_col4\" class=\"col_heading level0 col4\" >4</th>\n",
       "      <th id=\"T_0a297_level0_col5\" class=\"col_heading level0 col5\" >5</th>\n",
       "    </tr>\n",
       "  </thead>\n",
       "  <tbody>\n",
       "    <tr>\n",
       "      <th id=\"T_0a297_level0_row0\" class=\"row_heading level0 row0\" >0</th>\n",
       "      <td id=\"T_0a297_row0_col0\" class=\"data row0 col0\" >0.000000</td>\n",
       "      <td id=\"T_0a297_row0_col1\" class=\"data row0 col1\" >0.000000</td>\n",
       "      <td id=\"T_0a297_row0_col2\" class=\"data row0 col2\" >0.000000</td>\n",
       "      <td id=\"T_0a297_row0_col3\" class=\"data row0 col3\" >0.895000</td>\n",
       "      <td id=\"T_0a297_row0_col4\" class=\"data row0 col4\" >0.000000</td>\n",
       "      <td id=\"T_0a297_row0_col5\" class=\"data row0 col5\" >0.000000</td>\n",
       "    </tr>\n",
       "    <tr>\n",
       "      <th id=\"T_0a297_level0_row1\" class=\"row_heading level0 row1\" >1</th>\n",
       "      <td id=\"T_0a297_row1_col0\" class=\"data row1 col0\" >0.565000</td>\n",
       "      <td id=\"T_0a297_row1_col1\" class=\"data row1 col1\" >0.000000</td>\n",
       "      <td id=\"T_0a297_row1_col2\" class=\"data row1 col2\" >0.377000</td>\n",
       "      <td id=\"T_0a297_row1_col3\" class=\"data row1 col3\" >0.000000</td>\n",
       "      <td id=\"T_0a297_row1_col4\" class=\"data row1 col4\" >0.000000</td>\n",
       "      <td id=\"T_0a297_row1_col5\" class=\"data row1 col5\" >0.000000</td>\n",
       "    </tr>\n",
       "    <tr>\n",
       "      <th id=\"T_0a297_level0_row2\" class=\"row_heading level0 row2\" >2</th>\n",
       "      <td id=\"T_0a297_row2_col0\" class=\"data row2 col0\" >0.000000</td>\n",
       "      <td id=\"T_0a297_row2_col1\" class=\"data row2 col1\" >0.000000</td>\n",
       "      <td id=\"T_0a297_row2_col2\" class=\"data row2 col2\" >0.000000</td>\n",
       "      <td id=\"T_0a297_row2_col3\" class=\"data row2 col3\" >0.895000</td>\n",
       "      <td id=\"T_0a297_row2_col4\" class=\"data row2 col4\" >0.000000</td>\n",
       "      <td id=\"T_0a297_row2_col5\" class=\"data row2 col5\" >0.000000</td>\n",
       "    </tr>\n",
       "    <tr>\n",
       "      <th id=\"T_0a297_level0_row3\" class=\"row_heading level0 row3\" >3</th>\n",
       "      <td id=\"T_0a297_row3_col0\" class=\"data row3 col0\" >0.000000</td>\n",
       "      <td id=\"T_0a297_row3_col1\" class=\"data row3 col1\" >0.000000</td>\n",
       "      <td id=\"T_0a297_row3_col2\" class=\"data row3 col2\" >0.000000</td>\n",
       "      <td id=\"T_0a297_row3_col3\" class=\"data row3 col3\" >0.000000</td>\n",
       "      <td id=\"T_0a297_row3_col4\" class=\"data row3 col4\" >0.000000</td>\n",
       "      <td id=\"T_0a297_row3_col5\" class=\"data row3 col5\" >0.000000</td>\n",
       "    </tr>\n",
       "    <tr>\n",
       "      <th id=\"T_0a297_level0_row4\" class=\"row_heading level0 row4\" >4</th>\n",
       "      <td id=\"T_0a297_row4_col0\" class=\"data row4 col0\" >0.991000</td>\n",
       "      <td id=\"T_0a297_row4_col1\" class=\"data row4 col1\" >0.000000</td>\n",
       "      <td id=\"T_0a297_row4_col2\" class=\"data row4 col2\" >-0.124000</td>\n",
       "      <td id=\"T_0a297_row4_col3\" class=\"data row4 col3\" >0.000000</td>\n",
       "      <td id=\"T_0a297_row4_col4\" class=\"data row4 col4\" >0.000000</td>\n",
       "      <td id=\"T_0a297_row4_col5\" class=\"data row4 col5\" >0.000000</td>\n",
       "    </tr>\n",
       "    <tr>\n",
       "      <th id=\"T_0a297_level0_row5\" class=\"row_heading level0 row5\" >5</th>\n",
       "      <td id=\"T_0a297_row5_col0\" class=\"data row5 col0\" >0.895000</td>\n",
       "      <td id=\"T_0a297_row5_col1\" class=\"data row5 col1\" >0.000000</td>\n",
       "      <td id=\"T_0a297_row5_col2\" class=\"data row5 col2\" >0.000000</td>\n",
       "      <td id=\"T_0a297_row5_col3\" class=\"data row5 col3\" >0.000000</td>\n",
       "      <td id=\"T_0a297_row5_col4\" class=\"data row5 col4\" >0.000000</td>\n",
       "      <td id=\"T_0a297_row5_col5\" class=\"data row5 col5\" >0.000000</td>\n",
       "    </tr>\n",
       "  </tbody>\n",
       "</table>\n"
      ],
      "text/plain": [
       "<pandas.io.formats.style.Styler at 0x7f8c6c189dc0>"
      ]
     },
     "metadata": {},
     "output_type": "display_data"
    }
   ],
   "source": [
    "m = np.array([\n",
    "    [ 0.000,  0.000,  0.000,  0.895,  0.000,  0.000],\n",
    "    [ 0.565,  0.000,  0.377,  0.000,  0.000,  0.000],\n",
    "    [ 0.000,  0.000,  0.000,  0.895,  0.000,  0.000],\n",
    "    [ 0.000,  0.000,  0.000,  0.000,  0.000,  0.000],\n",
    "    [ 0.991,  0.000, -0.124,  0.000,  0.000,  0.000],\n",
    "    [ 0.895,  0.000,  0.000,  0.000,  0.000,  0.000]\n",
    "])\n",
    "causal_order = [3, 0, 2, 1, 4, 5]\n",
    "\n",
    "display(pd.DataFrame(m).style.background_gradient(axis=None))"
   ]
  },
  {
   "cell_type": "markdown",
   "id": "1faeb927-ffb1-4467-a33c-b81bbbfdaa44",
   "metadata": {},
   "source": [
    "`impute_by_mice` imputes given data with missing values. The following codes makes a causal data with some missing values."
   ]
  },
  {
   "cell_type": "code",
   "execution_count": 3,
   "id": "d3fe0293-62c2-4acc-96c5-434b5e5c785c",
   "metadata": {
    "tags": []
   },
   "outputs": [],
   "source": [
    "def generate_data(size=1000):\n",
    "    scales = [0.2, 0.2, 0.2, 1, 0.2, 0.2]\n",
    "    e = np.array([np.random.uniform(-np.sqrt(3 * scale), np.sqrt(3 * scale), size=size) for scale in scales])\n",
    "    X = (np.linalg.pinv(np.eye(len(m)) - m) @ e).T\n",
    "    return X\n",
    "\n",
    "def generate_missing_pos(prop_missing):\n",
    "    # This function generates positions to be missing values by mcar.\n",
    "    missing_pos = []\n",
    "    for i, prop in enumerate(prop_missing):\n",
    "        mask = np.random.uniform(0, 1, size=len(X))\n",
    "        missing_pos.append(mask < prop)\n",
    "    missing_pos = np.array(missing_pos).T\n",
    "    \n",
    "    return missing_pos\n",
    "\n",
    "X = generate_data()\n",
    "\n",
    "prop_missing = [0.1, 0.1, 0.1, 0.1, 0.1, 0.1]\n",
    "missing_pos = generate_missing_pos(prop_missing)\n",
    "\n",
    "# keep true values\n",
    "true_values = X.copy()\n",
    "true_values[~missing_pos] = np.nan\n",
    "\n",
    "X[missing_pos] = np.nan"
   ]
  },
  {
   "cell_type": "markdown",
   "id": "f50f05e6-928d-493c-8d4e-24930595b975",
   "metadata": {},
   "source": [
    "Actual proportions of missing values are as follows:"
   ]
  },
  {
   "cell_type": "code",
   "execution_count": 4,
   "id": "4f3dc299-7de5-443b-9568-2722f60a3405",
   "metadata": {
    "tags": []
   },
   "outputs": [
    {
     "data": {
      "text/plain": [
       "array([0.095, 0.099, 0.098, 0.099, 0.114, 0.103])"
      ]
     },
     "execution_count": 4,
     "metadata": {},
     "output_type": "execute_result"
    }
   ],
   "source": [
    "np.isnan(X).sum(axis=0) / len(X)"
   ]
  },
  {
   "cell_type": "code",
   "execution_count": 5,
   "id": "c56bbd8b-2672-42aa-990c-8d7fb8906799",
   "metadata": {
    "tags": []
   },
   "outputs": [
    {
     "data": {
      "image/png": "[encoded data removed]",
      "text/plain": [
       "<Figure size 864x144 with 6 Axes>"
      ]
     },
     "metadata": {
      "needs_background": "light"
     },
     "output_type": "display_data"
    }
   ],
   "source": [
    "fig, axes = plt.subplots(1, X.shape[1], figsize=(12, 2))\n",
    "for i, (ax, x) in enumerate(zip(axes, X.T)):\n",
    "    ax.hist(x)\n",
    "    ax.set_title(f\"x{i}\")\n",
    "plt.tight_layout()\n",
    "plt.show()"
   ]
  },
  {
   "cell_type": "markdown",
   "id": "6847e270-0278-47df-b275-8924fd9c3d50",
   "metadata": {},
   "source": [
    "## Impute data\n",
    "\n",
    "The following codes impute missing values of the data."
   ]
  },
  {
   "cell_type": "code",
   "execution_count": 6,
   "id": "3687ab1a-efe1-4825-adfc-26b0023946fb",
   "metadata": {
    "tags": []
   },
   "outputs": [],
   "source": [
    "X_list = impute_by_mice(X, n_imputations=3)"
   ]
  },
  {
   "cell_type": "markdown",
   "id": "ecab4914-ac91-412a-94a3-0f970960857b",
   "metadata": {},
   "source": [
    "`impute_by_mice` returns a list of imputed data. Its length is equal to `n_imputations`."
   ]
  },
  {
   "cell_type": "code",
   "execution_count": 7,
   "id": "8358225b-35f5-4c08-a669-33d1a4f25f6d",
   "metadata": {
    "tags": []
   },
   "outputs": [
    {
     "data": {
      "text/plain": [
       "3"
      ]
     },
     "execution_count": 7,
     "metadata": {},
     "output_type": "execute_result"
    }
   ],
   "source": [
    "len(X_list)"
   ]
  },
  {
   "cell_type": "markdown",
   "id": "c590f981-38f1-4aa4-ab1f-79bb170f2c8e",
   "metadata": {
    "tags": []
   },
   "source": [
    "The following codes visualize the relations of imputed values and true values. The horizontal axis is true values and the vertical axis is imputed values."
   ]
  },
  {
   "cell_type": "code",
   "execution_count": 8,
   "id": "6f5c25ae-5700-4b3b-9935-4ee697599c81",
   "metadata": {
    "tags": []
   },
   "outputs": [
    {
     "data": {
      "image/png": "[encoded data removed]",
      "text/plain": [
       "<Figure size 720x144 with 6 Axes>"
      ]
     },
     "metadata": {
      "needs_background": "light"
     },
     "output_type": "display_data"
    },
    {
     "data": {
      "image/png": "[encoded data removed]",
      "text/plain": [
       "<Figure size 720x144 with 6 Axes>"
      ]
     },
     "metadata": {
      "needs_background": "light"
     },
     "output_type": "display_data"
    },
    {
     "data": {
      "image/png": "[encoded data removed]",
      "text/plain": [
       "<Figure size 720x144 with 6 Axes>"
      ]
     },
     "metadata": {
      "needs_background": "light"
     },
     "output_type": "display_data"
    }
   ],
   "source": [
    "for i, X_imp in enumerate(X_list):\n",
    "    fig, axes = plt.subplots(1, X.shape[1], figsize=(10, 2))\n",
    "    for j, ax in enumerate(axes):\n",
    "        ax.scatter(true_values[missing_pos], X_imp[missing_pos], s=1)\n",
    "        ax.axline((0, 0), (1, 1), color=\"black\", ls=\"dashed\")\n",
    "        ax.set_aspect(\"equal\", \"box\")\n",
    "        ax.set_title(f\"x{j}\")\n",
    "    plt.suptitle(f\"{i}th result\")\n",
    "    plt.tight_layout()\n",
    "    plt.show()"
   ]
  },
  {
   "cell_type": "markdown",
   "id": "8da4763d-ba74-40be-a55e-4c3bc5799116",
   "metadata": {},
   "source": [
    "The result of the imputation looks about right."
   ]
  },
  {
   "cell_type": "markdown",
   "id": "2c7c24b9-b1d2-43ff-9309-baf058e09ab5",
   "metadata": {
    "tags": []
   },
   "source": [
    "## Causal discovery on the dataset with missing data\n",
    "\n",
    "To execute the following code, version 1.9.2 or later lingam package is required.\n",
    "\n",
    "`lingam.tools.bootstrap_with_imputation` performs a causal discovery with `MultiGroupDirectLiNGAM` on the datasets generated by the multiple imputation to estimate the causal order, and then performs pruning on each of the datasets.\n",
    "\n",
    "This section describes how to set `impute_by_mice` to `bootstrap_with_imputation` as the alternative imputer."
   ]
  },
  {
   "cell_type": "code",
   "execution_count": 9,
   "id": "a87e6725-51d5-45ab-8078-864168ba4a6d",
   "metadata": {
    "tags": []
   },
   "outputs": [],
   "source": [
    "# install lingam package\n",
    "#%pip install \"lingam>=1.9.2\"\n",
    "\n",
    "from lingam import MultiGroupDirectLiNGAM\n",
    "from lingam.bootstrap import BootstrapResult\n",
    "from lingam.tools import BaseMultipleImputation, bootstrap_with_imputation\n",
    "from lingam.utils import calculate_total_effect, print_causal_directions, print_dagc, make_dot"
   ]
  },
  {
   "cell_type": "markdown",
   "id": "6e01d2c9-66c8-4ef2-bd73-e0b081862f17",
   "metadata": {},
   "source": [
    "`bootstrap_with_imputation` is performed to obtain estimation results."
   ]
  },
  {
   "cell_type": "code",
   "execution_count": 10,
   "id": "3bfb8150-d07d-48bf-ae17-eeaec1de84ab",
   "metadata": {
    "tags": []
   },
   "outputs": [],
   "source": [
    "# number of bootstrap sampling\n",
    "n_sampling = 10\n",
    "# number of multiple imputations\n",
    "n_repeats = 10\n",
    "\n",
    "# see the manual of lingam package for details of bootstrap_with_imputation\n",
    "result = bootstrap_with_imputation(X, n_sampling, n_repeats)\n",
    "\n",
    "causal_orders, adj_matrices_list, resampled_indices, imputation_results = result"
   ]
  },
  {
   "cell_type": "code",
   "execution_count": 11,
   "id": "17fe9791-cc61-4932-b47d-5262dadc32d1",
   "metadata": {
    "tags": []
   },
   "outputs": [
    {
     "data": {
      "text/plain": [
       "array([[3, 2, 0, 4, 1, 5],\n",
       "       [3, 0, 2, 5, 4, 1],\n",
       "       [3, 0, 2, 5, 4, 1],\n",
       "       [3, 2, 0, 5, 4, 1],\n",
       "       [3, 2, 0, 4, 5, 1],\n",
       "       [3, 0, 2, 1, 5, 4],\n",
       "       [3, 2, 0, 4, 1, 5],\n",
       "       [3, 2, 0, 5, 4, 1],\n",
       "       [3, 0, 2, 1, 5, 4],\n",
       "       [3, 2, 0, 4, 5, 1]])"
      ]
     },
     "execution_count": 11,
     "metadata": {},
     "output_type": "execute_result"
    }
   ],
   "source": [
    "causal_orders"
   ]
  },
  {
   "cell_type": "markdown",
   "id": "cd356685-a45a-4ba3-aec0-37fe778f5b35",
   "metadata": {
    "tags": []
   },
   "source": [
    "`bootstrap_with_imputation` performs the multiple imputation using `sklearn.impute.IterativeImputer`.\n",
    "\n",
    "The following code sets up an alternative multiple imputation method for `bootstrap_with_imputation`."
   ]
  },
  {
   "cell_type": "code",
   "execution_count": 12,
   "id": "05581eea-55e8-4e47-b864-a3b812b2951d",
   "metadata": {
    "tags": []
   },
   "outputs": [],
   "source": [
    "class CustomizedMultipleImputation(BaseMultipleImputation):\n",
    "    \n",
    "    def fit_transform(self, X):\n",
    "        X_ = impute_by_mice(X)\n",
    "        return X_\n",
    "\n",
    "imp = CustomizedMultipleImputation()\n",
    "result = bootstrap_with_imputation(X, n_sampling, n_repeats, imp=imp)\n",
    "\n",
    "causal_orders, adj_matrices_list, resampled_indices, imputation_results = result"
   ]
  },
  {
   "cell_type": "code",
   "execution_count": 13,
   "id": "912dc884-6428-4420-9e27-51746d1d69db",
   "metadata": {
    "tags": []
   },
   "outputs": [
    {
     "data": {
      "text/plain": [
       "array([[3, 0, 2, 5, 4, 1],\n",
       "       [3, 0, 2, 4, 1, 5],\n",
       "       [3, 0, 2, 4, 1, 5],\n",
       "       [3, 0, 2, 4, 1, 5],\n",
       "       [3, 2, 0, 4, 5, 1],\n",
       "       [3, 0, 5, 2, 4, 1],\n",
       "       [3, 0, 2, 4, 1, 5],\n",
       "       [3, 0, 2, 4, 1, 5],\n",
       "       [3, 0, 2, 1, 4, 5],\n",
       "       [3, 0, 2, 4, 5, 1]])"
      ]
     },
     "execution_count": 13,
     "metadata": {},
     "output_type": "execute_result"
    }
   ],
   "source": [
    "causal_orders"
   ]
  },
  {
   "cell_type": "markdown",
   "id": "ae0f5a03-0892-48ae-8581-989f8b970698",
   "metadata": {},
   "source": [
    "The `adj_matrices_list` will hold the bootstrap results of _`n_sampling` * `n_repeats`_ times. To visualize the results of the bootstrap, execute the following code.\n",
    "\n",
    "For more information on `lingam.bootstrap.BootstrapResult`, check the `lingam` [manual](https://lingam.readthedocs.io/en/stable/reference/bootstrap.html) and [samples](https://github.com/cdt15/lingam/blob/master/lingam/bootstrap.py)."
   ]
  },
  {
   "cell_type": "code",
   "execution_count": 14,
   "id": "6be56549-dea0-4274-ac55-8b3265ea772a",
   "metadata": {
    "tags": []
   },
   "outputs": [
    {
     "data": {
      "text/plain": [
       "(10, 10, 6, 6)"
      ]
     },
     "execution_count": 14,
     "metadata": {},
     "output_type": "execute_result"
    }
   ],
   "source": [
    "adj_matrices_list.shape"
   ]
  },
  {
   "cell_type": "code",
   "execution_count": 15,
   "id": "fcd20fc0-5fce-41dd-b903-04e4c4ca0450",
   "metadata": {
    "tags": []
   },
   "outputs": [],
   "source": [
    "# calculate total effect\n",
    "adj_matrix_list = adj_matrices_list.reshape(-1, 6, 6)\n",
    "\n",
    "total_effect = np.zeros(adj_matrix_list.shape)\n",
    "for i, (causal_order, adj) in enumerate(zip(causal_orders, adj_matrix_list)):\n",
    "    for j, from_ in enumerate(causal_order):\n",
    "        for to in causal_order[j + 1 :]:\n",
    "            eff = calculate_total_effect(adj, from_, to)\n",
    "            total_effect[i, to, from_] = eff\n",
    "\n",
    "bs_result = BootstrapResult(adj_matrix_list, total_effect)"
   ]
  },
  {
   "cell_type": "markdown",
   "id": "f2ee8d70-cc78-4e78-80d6-8e22a920f41b",
   "metadata": {},
   "source": [
    "### Causal directions"
   ]
  },
  {
   "cell_type": "code",
   "execution_count": 16,
   "id": "726e6873-53ed-4462-9c45-33ae6ad25de8",
   "metadata": {
    "tags": []
   },
   "outputs": [
    {
     "name": "stdout",
     "output_type": "stream",
     "text": [
      "x2 <--- x3  (100.0%)\n",
      "x0 <--- x3  (100.0%)\n",
      "x1 <--- x0  (100.0%)\n",
      "x1 <--- x2  (100.0%)\n",
      "x5 <--- x0  (100.0%)\n",
      "x4 <--- x0  (100.0%)\n",
      "x4 <--- x2  (93.0%)\n",
      "x4 <--- x3  (34.0%)\n",
      "x5 <--- x2  (18.0%)\n",
      "x5 <--- x1  (17.0%)\n",
      "x5 <--- x3  (16.0%)\n",
      "x2 <--- x0  (15.0%)\n",
      "x1 <--- x4  (11.0%)\n",
      "x1 <--- x5  (8.0%)\n",
      "x1 <--- x3  (5.0%)\n",
      "x0 <--- x2  (3.0%)\n",
      "x4 <--- x5  (1.0%)\n",
      "x2 <--- x5  (1.0%)\n"
     ]
    }
   ],
   "source": [
    "cdc = bs_result.get_causal_direction_counts()\n",
    "\n",
    "print_causal_directions(cdc, n_sampling=len(adj_matrix_list))"
   ]
  },
  {
   "cell_type": "markdown",
   "id": "d130bfa7-343d-4622-b5d3-4ff36062d373",
   "metadata": {},
   "source": [
    "### Directed acyclic graphs"
   ]
  },
  {
   "cell_type": "code",
   "execution_count": 17,
   "id": "8b2309c4-36c5-42a4-9b2e-0bae2f7a8e31",
   "metadata": {
    "tags": []
   },
   "outputs": [
    {
     "name": "stdout",
     "output_type": "stream",
     "text": [
      "DAG[0]: 20.0%\n",
      "\tx0 <--- x3 \n",
      "\tx1 <--- x0 \n",
      "\tx1 <--- x2 \n",
      "\tx2 <--- x3 \n",
      "\tx4 <--- x0 \n",
      "\tx4 <--- x2 \n",
      "\tx4 <--- x3 \n",
      "\tx5 <--- x0 \n",
      "DAG[1]: 15.0%\n",
      "\tx0 <--- x3 \n",
      "\tx1 <--- x0 \n",
      "\tx1 <--- x2 \n",
      "\tx2 <--- x3 \n",
      "\tx4 <--- x0 \n",
      "\tx4 <--- x2 \n",
      "\tx5 <--- x0 \n",
      "\tx5 <--- x2 \n",
      "DAG[2]: 9.0%\n",
      "\tx0 <--- x3 \n",
      "\tx1 <--- x0 \n",
      "\tx1 <--- x2 \n",
      "\tx2 <--- x3 \n",
      "\tx4 <--- x0 \n",
      "\tx4 <--- x2 \n",
      "\tx5 <--- x0 \n",
      "\tx5 <--- x1 \n"
     ]
    }
   ],
   "source": [
    "dagc = bs_result.get_directed_acyclic_graph_counts(n_dags=3)\n",
    "print_dagc(dagc, n_sampling=len(adj_matrix_list))"
   ]
  },
  {
   "cell_type": "markdown",
   "id": "a78d9945-6d90-46f6-855c-308a7d205d1b",
   "metadata": {},
   "source": [
    "### Probability"
   ]
  },
  {
   "cell_type": "code",
   "execution_count": 18,
   "id": "5b79bcdc-8e41-487b-8afa-02d77300ccb6",
   "metadata": {
    "tags": []
   },
   "outputs": [
    {
     "data": {
      "text/plain": [
       "array([[0.  , 0.  , 0.03, 1.  , 0.  , 0.  ],\n",
       "       [1.  , 0.  , 1.  , 0.05, 0.11, 0.08],\n",
       "       [0.15, 0.  , 0.  , 1.  , 0.  , 0.01],\n",
       "       [0.  , 0.  , 0.  , 0.  , 0.  , 0.  ],\n",
       "       [1.  , 0.  , 0.93, 0.34, 0.  , 0.01],\n",
       "       [1.  , 0.17, 0.18, 0.16, 0.  , 0.  ]])"
      ]
     },
     "execution_count": 18,
     "metadata": {},
     "output_type": "execute_result"
    }
   ],
   "source": [
    "prob = bs_result.get_probabilities(min_causal_effect=0.01)\n",
    "prob"
   ]
  },
  {
   "cell_type": "markdown",
   "id": "95d29660-fec7-4471-b513-d0cfabfbfd18",
   "metadata": {},
   "source": [
    "### Total causal effects"
   ]
  },
  {
   "cell_type": "code",
   "execution_count": 19,
   "id": "3c8e9c2f-2905-4d71-ade9-2b0040e79e96",
   "metadata": {
    "tags": []
   },
   "outputs": [
    {
     "data": {
      "text/html": [
       "<div>\n",
       "<style scoped>\n",
       "    .dataframe tbody tr th:only-of-type {\n",
       "        vertical-align: middle;\n",
       "    }\n",
       "\n",
       "    .dataframe tbody tr th {\n",
       "        vertical-align: top;\n",
       "    }\n",
       "\n",
       "    .dataframe thead th {\n",
       "        text-align: right;\n",
       "    }\n",
       "</style>\n",
       "<table border=\"1\" class=\"dataframe\">\n",
       "  <thead>\n",
       "    <tr style=\"text-align: right;\">\n",
       "      <th></th>\n",
       "      <th>from</th>\n",
       "      <th>to</th>\n",
       "      <th>effect</th>\n",
       "      <th>probability</th>\n",
       "    </tr>\n",
       "  </thead>\n",
       "  <tbody>\n",
       "    <tr>\n",
       "      <th>4</th>\n",
       "      <td>3</td>\n",
       "      <td>2</td>\n",
       "      <td>0.882852</td>\n",
       "      <td>0.1</td>\n",
       "    </tr>\n",
       "    <tr>\n",
       "      <th>7</th>\n",
       "      <td>0</td>\n",
       "      <td>5</td>\n",
       "      <td>0.868056</td>\n",
       "      <td>0.1</td>\n",
       "    </tr>\n",
       "    <tr>\n",
       "      <th>0</th>\n",
       "      <td>3</td>\n",
       "      <td>0</td>\n",
       "      <td>0.866857</td>\n",
       "      <td>0.1</td>\n",
       "    </tr>\n",
       "    <tr>\n",
       "      <th>5</th>\n",
       "      <td>0</td>\n",
       "      <td>4</td>\n",
       "      <td>0.823163</td>\n",
       "      <td>0.1</td>\n",
       "    </tr>\n",
       "    <tr>\n",
       "      <th>3</th>\n",
       "      <td>3</td>\n",
       "      <td>1</td>\n",
       "      <td>0.794866</td>\n",
       "      <td>0.1</td>\n",
       "    </tr>\n",
       "  </tbody>\n",
       "</table>\n",
       "</div>"
      ],
      "text/plain": [
       "   from  to    effect  probability\n",
       "4     3   2  0.882852          0.1\n",
       "7     0   5  0.868056          0.1\n",
       "0     3   0  0.866857          0.1\n",
       "5     0   4  0.823163          0.1\n",
       "3     3   1  0.794866          0.1"
      ]
     },
     "execution_count": 19,
     "metadata": {},
     "output_type": "execute_result"
    }
   ],
   "source": [
    "causal_effects = bs_result.get_total_causal_effects(min_causal_effect=0.01)\n",
    "pd.DataFrame(causal_effects).sort_values(\"effect\", key=abs, ascending=False).head()"
   ]
  },
  {
   "cell_type": "markdown",
   "id": "9341d143-8080-4831-81b8-71ae7bc8c56d",
   "metadata": {},
   "source": [
    "### Bootstrap probability of path"
   ]
  },
  {
   "cell_type": "code",
   "execution_count": 20,
   "id": "d7b79366-01e7-4c09-b139-2c4d076fe59c",
   "metadata": {
    "tags": []
   },
   "outputs": [
    {
     "data": {
      "text/html": [
       "<div>\n",
       "<style scoped>\n",
       "    .dataframe tbody tr th:only-of-type {\n",
       "        vertical-align: middle;\n",
       "    }\n",
       "\n",
       "    .dataframe tbody tr th {\n",
       "        vertical-align: top;\n",
       "    }\n",
       "\n",
       "    .dataframe thead th {\n",
       "        text-align: right;\n",
       "    }\n",
       "</style>\n",
       "<table border=\"1\" class=\"dataframe\">\n",
       "  <thead>\n",
       "    <tr style=\"text-align: right;\">\n",
       "      <th></th>\n",
       "      <th>path</th>\n",
       "      <th>effect</th>\n",
       "      <th>probability</th>\n",
       "    </tr>\n",
       "  </thead>\n",
       "  <tbody>\n",
       "    <tr>\n",
       "      <th>0</th>\n",
       "      <td>[3, 0, 1]</td>\n",
       "      <td>0.445459</td>\n",
       "      <td>1.00</td>\n",
       "    </tr>\n",
       "    <tr>\n",
       "      <th>1</th>\n",
       "      <td>[3, 2, 1]</td>\n",
       "      <td>0.376023</td>\n",
       "      <td>1.00</td>\n",
       "    </tr>\n",
       "    <tr>\n",
       "      <th>7</th>\n",
       "      <td>[3, 1]</td>\n",
       "      <td>-0.138457</td>\n",
       "      <td>0.05</td>\n",
       "    </tr>\n",
       "    <tr>\n",
       "      <th>6</th>\n",
       "      <td>[3, 0, 5, 1]</td>\n",
       "      <td>0.083817</td>\n",
       "      <td>0.08</td>\n",
       "    </tr>\n",
       "    <tr>\n",
       "      <th>3</th>\n",
       "      <td>[3, 0, 4, 1]</td>\n",
       "      <td>0.072407</td>\n",
       "      <td>0.11</td>\n",
       "    </tr>\n",
       "  </tbody>\n",
       "</table>\n",
       "</div>"
      ],
      "text/plain": [
       "           path    effect  probability\n",
       "0     [3, 0, 1]  0.445459         1.00\n",
       "1     [3, 2, 1]  0.376023         1.00\n",
       "7        [3, 1] -0.138457         0.05\n",
       "6  [3, 0, 5, 1]  0.083817         0.08\n",
       "3  [3, 0, 4, 1]  0.072407         0.11"
      ]
     },
     "execution_count": 20,
     "metadata": {},
     "output_type": "execute_result"
    }
   ],
   "source": [
    "from_index = 3 # index of x3\n",
    "to_index = 1 # index of x0\n",
    "\n",
    "pd.DataFrame(bs_result.get_paths(from_index, to_index)).sort_values(\"effect\", key=abs, ascending=False).head()"
   ]
  }
 ],
 "metadata": {
  "kernelspec": {
   "display_name": "Python 3 (ipykernel)",
   "language": "python",
   "name": "python3"
  },
  "language_info": {
   "codemirror_mode": {
    "name": "ipython",
    "version": 3
   },
   "file_extension": ".py",
   "mimetype": "text/x-python",
   "name": "python",
   "nbconvert_exporter": "python",
   "pygments_lexer": "ipython3",
   "version": "3.8.10"
  },
  "widgets": {
   "application/vnd.jupyter.widget-state+json": {
    "state": {},
    "version_major": 2,
    "version_minor": 0
   }
  }
 },
 "nbformat": 4,
 "nbformat_minor": 5
}
